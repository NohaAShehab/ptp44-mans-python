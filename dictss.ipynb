{
 "cells": [
  {
   "cell_type": "raw",
   "source": [],
   "metadata": {
    "collapsed": false
   },
   "id": "c65db0352e83c64"
  },
  {
   "cell_type": "raw",
   "source": [
    "dict  ===> non primitive data ==> data ---> comma seperated key:value\n",
    "    {K:V}"
   ],
   "metadata": {
    "collapsed": false
   },
   "id": "158c74f9e5d0b461"
  },
  {
   "cell_type": "code",
   "outputs": [],
   "source": [
    "\"\"\"1- define dict \"\"\"\n",
    "d = {} # dict\n",
    "myd = dict()"
   ],
   "metadata": {
    "collapsed": false
   },
   "id": "621f8355d65f8263"
  },
  {
   "cell_type": "raw",
   "source": [
    "dict can hold different data from different datatypes\n",
    "based on set \n",
    "dict doesn't allow key duplication\n",
    "dict from python 3.7 --> ordered datatype"
   ],
   "metadata": {
    "collapsed": false
   },
   "id": "414347a8c4bb9ce3"
  },
  {
   "cell_type": "code",
   "outputs": [
    {
     "name": "stdout",
     "output_type": "stream",
     "text": [
      "{'name': 'Noha Shehab', 'age': 31, 'track': 'OSAD', 'courses': ['python', 'bash', 'linux']}\n"
     ]
    }
   ],
   "source": [
    "info = {\n",
    "    \"name\":\"noha\",\n",
    "    \"age\":31,\n",
    "    \"track\":\"OSAD\",\n",
    "    \"courses\": [\"python\",\"bash\",\"linux\"],\n",
    "    \"name\":\"Noha Shehab\"\n",
    "}\n",
    "print(info)"
   ],
   "metadata": {
    "collapsed": false,
    "ExecuteTime": {
     "end_time": "2024-03-28T10:55:19.222508Z",
     "start_time": "2024-03-28T10:55:19.216024Z"
    }
   },
   "id": "2ae33858eef4ad64",
   "execution_count": 1
  },
  {
   "cell_type": "code",
   "outputs": [
    {
     "name": "stdout",
     "output_type": "stream",
     "text": [
      "31\n"
     ]
    }
   ],
   "source": [
    "\"\"\" access elements using key \"\"\"\n",
    "print(info[\"age\"])\n"
   ],
   "metadata": {
    "collapsed": false,
    "ExecuteTime": {
     "end_time": "2024-03-28T10:56:40.442901Z",
     "start_time": "2024-03-28T10:56:40.435348Z"
    }
   },
   "id": "1b0610b784bc6eca",
   "execution_count": 2
  },
  {
   "cell_type": "code",
   "outputs": [
    {
     "name": "stdout",
     "output_type": "stream",
     "text": [
      "{'name': 'Noha Shehab', 'age': 32, 'track': 'OSAD', 'courses': ['python', 'bash', 'linux']}\n",
      "{'name': 'Noha Shehab', 'age': 32, 'track': 'OSAD', 'courses': ['python', 'bash', 'linux'], 'city': 'Giza'}\n"
     ]
    }
   ],
   "source": [
    "\"\"\" dict is mutable datatype \"\"\"\n",
    "info[\"age\"] = 32\n",
    "print(info)\n",
    "info[\"city\"] = 'Giza'  # if key doesn't exist ==> will add it\n",
    "print(info)"
   ],
   "metadata": {
    "collapsed": false,
    "ExecuteTime": {
     "end_time": "2024-03-28T10:57:17.153123Z",
     "start_time": "2024-03-28T10:57:17.144606Z"
    }
   },
   "id": "38fa86eae0a3b7b",
   "execution_count": 4
  },
  {
   "cell_type": "code",
   "outputs": [
    {
     "name": "stdout",
     "output_type": "stream",
     "text": [
      "5\n"
     ]
    }
   ],
   "source": [
    "\"get len of dict \"\n",
    "print(len(info))"
   ],
   "metadata": {
    "collapsed": false,
    "ExecuteTime": {
     "end_time": "2024-03-28T10:57:57.529940Z",
     "start_time": "2024-03-28T10:57:57.523532Z"
    }
   },
   "id": "295d198b5d1971ba",
   "execution_count": 5
  },
  {
   "cell_type": "code",
   "outputs": [
    {
     "name": "stdout",
     "output_type": "stream",
     "text": [
      "False\n"
     ]
    }
   ],
   "source": [
    "\"\"\"check if value exists in dict ---> in operator if values exists in keys \"\"\"\n",
    "print(\"Giza\" in info)"
   ],
   "metadata": {
    "collapsed": false,
    "ExecuteTime": {
     "end_time": "2024-03-28T10:58:23.662351Z",
     "start_time": "2024-03-28T10:58:23.656958Z"
    }
   },
   "id": "e0ffd4b85a7b586b",
   "execution_count": 6
  },
  {
   "cell_type": "code",
   "outputs": [
    {
     "name": "stdout",
     "output_type": "stream",
     "text": [
      "dict_keys(['name', 'age', 'track', 'courses', 'city'])\n",
      "['name', 'age', 'track', 'courses', 'city']\n"
     ]
    }
   ],
   "source": [
    "\"\"\" get keys\"\"\"\n",
    "info_keys = info.keys()  # return dict keys in form of  dict_keys\n",
    "print(info_keys)\n",
    "keys = list(info_keys)  # can be casted to a list \n",
    "print(keys)"
   ],
   "metadata": {
    "collapsed": false,
    "ExecuteTime": {
     "end_time": "2024-03-28T11:00:54.791765Z",
     "start_time": "2024-03-28T11:00:54.784758Z"
    }
   },
   "id": "4aab962f5b4c1e9d",
   "execution_count": 8
  },
  {
   "cell_type": "code",
   "outputs": [
    {
     "name": "stdout",
     "output_type": "stream",
     "text": [
      "dict_values(['Noha Shehab', 32, 'OSAD', ['python', 'bash', 'linux'], 'Giza'])\n",
      "True\n"
     ]
    }
   ],
   "source": [
    "\"\"\"get values ?\"\"\"\n",
    "info_values = info.values()  # dict_values\n",
    "print(info_values)\n",
    "vals = list(info_values)\n",
    "print(\"Giza\" in info.values())"
   ],
   "metadata": {
    "collapsed": false,
    "ExecuteTime": {
     "end_time": "2024-03-28T11:01:17.018783Z",
     "start_time": "2024-03-28T11:01:17.012117Z"
    }
   },
   "id": "182627748140f8e9",
   "execution_count": 9
  },
  {
   "cell_type": "code",
   "outputs": [
    {
     "name": "stdout",
     "output_type": "stream",
     "text": [
      "name\n",
      "age\n",
      "track\n",
      "courses\n",
      "city\n"
     ]
    }
   ],
   "source": [
    "\"\"\"loop over the dict \"\"\"\n",
    "for abbass in info:  # keys\n",
    "    print(f\"{abbass}\")"
   ],
   "metadata": {
    "collapsed": false,
    "ExecuteTime": {
     "end_time": "2024-03-28T11:04:17.099795Z",
     "start_time": "2024-03-28T11:04:17.091403Z"
    }
   },
   "id": "af9b688f7085c8e0",
   "execution_count": 10
  },
  {
   "cell_type": "code",
   "outputs": [
    {
     "name": "stdout",
     "output_type": "stream",
     "text": [
      "name: Noha Shehab\n",
      "age: 32\n",
      "track: OSAD\n",
      "courses: ['python', 'bash', 'linux']\n",
      "city: Giza\n"
     ]
    }
   ],
   "source": [
    "for abbass in info:  # abbass --> represent key\n",
    "    print(f\"{abbass}: {info[abbass]}\")"
   ],
   "metadata": {
    "collapsed": false,
    "ExecuteTime": {
     "end_time": "2024-03-28T11:04:39.982078Z",
     "start_time": "2024-03-28T11:04:39.975539Z"
    }
   },
   "id": "6a4e0d2021c10c46",
   "execution_count": 11
  },
  {
   "cell_type": "code",
   "outputs": [],
   "source": [
    "for k , v in info.items():\n",
    "    print(f\"{k}: {v}\")"
   ],
   "metadata": {
    "collapsed": false
   },
   "id": "42fd4349c6f23f98"
  },
  {
   "cell_type": "code",
   "outputs": [],
   "source": [
    "basic_info = {\"fname\": \"Noha\", \"lname\":\"Shehab\", \"age\":31, \"uni\":\"Mansoura\"}\n",
    "salary_ref = {\"salary\":\"10000\" , \"currency\":\"KWD\", \"fname\":\"Buthina\", \"lname\":\"Khaled\"}"
   ],
   "metadata": {
    "collapsed": false,
    "ExecuteTime": {
     "end_time": "2024-03-28T11:08:12.378797Z",
     "start_time": "2024-03-28T11:08:12.367326Z"
    }
   },
   "id": "7fda84c04eaad0c",
   "execution_count": 15
  },
  {
   "cell_type": "code",
   "outputs": [
    {
     "name": "stdout",
     "output_type": "stream",
     "text": [
      "{'lname': 'Khaled', 'age': 31, 'uni': 'Mansoura', 'salary': '10000', 'currency': 'KWD', 'fname': 'Buthina'}\n"
     ]
    }
   ],
   "source": [
    "basic_info.update(salary_ref)\n",
    "print(basic_info)"
   ],
   "metadata": {
    "collapsed": false,
    "ExecuteTime": {
     "end_time": "2024-03-28T11:08:57.824712Z",
     "start_time": "2024-03-28T11:08:57.819453Z"
    }
   },
   "id": "e336a45fd4060070",
   "execution_count": 19
  },
  {
   "cell_type": "code",
   "outputs": [
    {
     "name": "stdout",
     "output_type": "stream",
     "text": [
      "Buthina\n"
     ]
    }
   ],
   "source": [
    "\"\"\"remove value from dict \"\"\"\n",
    "popped_value=basic_info.pop(\"fname\")\n",
    "print(popped_value)"
   ],
   "metadata": {
    "collapsed": false,
    "ExecuteTime": {
     "end_time": "2024-03-28T11:09:16.086861Z",
     "start_time": "2024-03-28T11:09:16.081619Z"
    }
   },
   "id": "4d9cf5c4cde20235",
   "execution_count": 20
  },
  {
   "cell_type": "code",
   "outputs": [],
   "source": [
    "info.clear()"
   ],
   "metadata": {
    "collapsed": false,
    "ExecuteTime": {
     "end_time": "2024-03-28T11:11:49.358513Z",
     "start_time": "2024-03-28T11:11:49.354779Z"
    }
   },
   "id": "bdb8821230a0b7c6",
   "execution_count": 21
  },
  {
   "cell_type": "code",
   "outputs": [],
   "source": [
    "del info \n"
   ],
   "metadata": {
    "collapsed": false
   },
   "id": "cc3942d92cd2c255"
  }
 ],
 "metadata": {
  "kernelspec": {
   "display_name": "Python 3",
   "language": "python",
   "name": "python3"
  },
  "language_info": {
   "codemirror_mode": {
    "name": "ipython",
    "version": 2
   },
   "file_extension": ".py",
   "mimetype": "text/x-python",
   "name": "python",
   "nbconvert_exporter": "python",
   "pygments_lexer": "ipython2",
   "version": "2.7.6"
  }
 },
 "nbformat": 4,
 "nbformat_minor": 5
}
