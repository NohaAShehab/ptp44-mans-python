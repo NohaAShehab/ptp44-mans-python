{
 "cells": [
  {
   "cell_type": "raw",
   "source": [
    "1- define variable"
   ],
   "metadata": {
    "collapsed": false
   },
   "id": "e0a0510ea52a6482"
  },
  {
   "cell_type": "code",
   "outputs": [],
   "source": [
    "import sys\n",
    "\n",
    "name = 'ahmed'\n",
    "Name = 'mohamed'\n",
    "###variable names in python case senstive \n",
    "# python interprete detect datatypes in runtime "
   ],
   "metadata": {
    "collapsed": false,
    "ExecuteTime": {
     "end_time": "2024-03-28T07:51:52.707528Z",
     "start_time": "2024-03-28T07:51:52.700982Z"
    }
   },
   "id": "f0d1b79bc7ca05ce",
   "execution_count": 1
  },
  {
   "cell_type": "raw",
   "source": [
    "2-no braces"
   ],
   "metadata": {
    "collapsed": false
   },
   "id": "904ef07f36f61ab5"
  },
  {
   "cell_type": "code",
   "outputs": [
    {
     "name": "stdout",
     "output_type": "stream",
     "text": [
      "Hello ahmed!\n"
     ]
    }
   ],
   "source": [
    "if name== 'ahmed':\n",
    "    print(\"Hello ahmed!\")"
   ],
   "metadata": {
    "collapsed": false,
    "ExecuteTime": {
     "end_time": "2024-03-28T07:51:57.801754Z",
     "start_time": "2024-03-28T07:51:57.798050Z"
    }
   },
   "id": "54d61318060c5aef",
   "execution_count": 2
  },
  {
   "cell_type": "markdown",
   "source": [
    "3- multi-line string ? "
   ],
   "metadata": {
    "collapsed": false
   },
   "id": "51c2577f13635923"
  },
  {
   "cell_type": "code",
   "outputs": [
    {
     "name": "stdout",
     "output_type": "stream",
     "text": [
      "My name is NohaI works at ITI I lives in cairo\n"
     ]
    }
   ],
   "source": [
    "bio= (\"My name is Noha\"\n",
    "      \"I works at ITI \"\n",
    "      \"I lives in cairo\")\n",
    "print(bio)"
   ],
   "metadata": {
    "collapsed": false,
    "ExecuteTime": {
     "end_time": "2024-03-28T07:53:03.973299Z",
     "start_time": "2024-03-28T07:53:03.969442Z"
    }
   },
   "id": "a36089756366e544",
   "execution_count": 3
  },
  {
   "cell_type": "markdown",
   "source": [
    "What about comments ? "
   ],
   "metadata": {
    "collapsed": false
   },
   "id": "2d99cb90afa1d6f5"
  },
  {
   "cell_type": "code",
   "outputs": [
    {
     "name": "stdout",
     "output_type": "stream",
     "text": [
      "My name is Noha\n",
      "I works at ITI\n",
      "I lives in cairo\n"
     ]
    }
   ],
   "source": [
    "bio= (\"My name is Noha\\n\"\n",
    "      \"I works at ITI\\n\"\n",
    "      \"I lives in cairo\")\n",
    "print(bio)"
   ],
   "metadata": {
    "collapsed": false,
    "ExecuteTime": {
     "end_time": "2024-03-28T07:54:05.571433Z",
     "start_time": "2024-03-28T07:54:05.567603Z"
    }
   },
   "id": "6b49729d8b672069",
   "execution_count": 4
  },
  {
   "cell_type": "markdown",
   "source": [
    "\n",
    "\n",
    "# python provides multi-line string\n",
    "\n",
    "bio2 = '''My name is Noha\n",
    "I works at ITI\n",
    "I lives in cairo'''\n",
    "print(bio2)"
   ],
   "metadata": {
    "collapsed": false
   },
   "id": "5cf027fcc7ebc458"
  },
  {
   "cell_type": "markdown",
   "source": [
    "Back to ..... ? "
   ],
   "metadata": {
    "collapsed": false
   },
   "id": "b404027fa145db85"
  },
  {
   "cell_type": "markdown",
   "source": [
    "\"\"\"this is considered to be a comment \"\"\"\n",
    "\n",
    "'this is another comment '"
   ],
   "metadata": {
    "collapsed": false
   },
   "id": "aef3273a241e4548"
  },
  {
   "cell_type": "raw",
   "source": [
    "Type casting "
   ],
   "metadata": {
    "collapsed": false
   },
   "id": "a30d46d053d605cf"
  },
  {
   "cell_type": "code",
   "outputs": [
    {
     "name": "stdout",
     "output_type": "stream",
     "text": [
      "<class 'int'>\n",
      "<class 'str'>\n"
     ]
    }
   ],
   "source": [
    "age= 31 \n",
    "print(type(age))\n",
    "\"\"\"python is loosly dynamically type lang? --> detect datatype in the runtime\n",
    "--> change datatype of variable in run time\"\"\"\n",
    "age = \"iti\"\n",
    "print(type(age))"
   ],
   "metadata": {
    "collapsed": false,
    "ExecuteTime": {
     "end_time": "2024-03-28T08:00:05.340535Z",
     "start_time": "2024-03-28T08:00:05.331713Z"
    }
   },
   "id": "7b701c4effde0820",
   "execution_count": 6
  },
  {
   "cell_type": "markdown",
   "source": [
    "\"\"\"****** conversion between types in python ***************\"\"\""
   ],
   "metadata": {
    "collapsed": false
   },
   "id": "503263d63012f3c3"
  },
  {
   "cell_type": "code",
   "outputs": [
    {
     "name": "stdout",
     "output_type": "stream",
     "text": [
      "<class 'int'>\n",
      "<class 'str'>\n"
     ]
    }
   ],
   "source": [
    "year = 2024 #int\n",
    "\n",
    "\"cast number to string \"\n",
    "print(type(year))\n",
    "year = str(year)\n",
    "print(type(year))\n"
   ],
   "metadata": {
    "collapsed": false,
    "ExecuteTime": {
     "end_time": "2024-03-28T08:05:14.962781Z",
     "start_time": "2024-03-28T08:05:14.958556Z"
    }
   },
   "id": "ffea6419f3c8e647",
   "execution_count": 8
  },
  {
   "cell_type": "markdown",
   "source": [
    "\n",
    "\n",
    "\n",
    "\n",
    "\n",
    "\n",
    "\"\"\" cast number to float \"\"\"\n"
   ],
   "metadata": {
    "collapsed": false
   },
   "id": "fb57998a66c78e69"
  },
  {
   "cell_type": "code",
   "outputs": [
    {
     "name": "stdout",
     "output_type": "stream",
     "text": [
      "<class 'int'>\n",
      "<class 'float'>\n"
     ]
    }
   ],
   "source": [
    "num = 10\n",
    "print(type(num))\n",
    "num = float(num)\n",
    "print(type(num))"
   ],
   "metadata": {
    "collapsed": false,
    "ExecuteTime": {
     "end_time": "2024-03-28T08:05:51.090227Z",
     "start_time": "2024-03-28T08:05:51.086332Z"
    }
   },
   "id": "ac4ac41b09dc02a",
   "execution_count": 10
  },
  {
   "cell_type": "markdown",
   "source": [
    "cast value to boolean\n",
    "\n"
   ],
   "metadata": {
    "collapsed": false
   },
   "id": "b40e0d5cc5b9c7e5"
  },
  {
   "cell_type": "code",
   "outputs": [],
   "source": [],
   "metadata": {
    "collapsed": false
   },
   "id": "81eddfb6abcad920"
  },
  {
   "cell_type": "code",
   "outputs": [
    {
     "name": "stdout",
     "output_type": "stream",
     "text": [
      "True <class 'bool'>\n"
     ]
    }
   ],
   "source": [
    "name = 'ahmed'\n",
    "name = bool(name)\n",
    "print(name, type(name))"
   ],
   "metadata": {
    "collapsed": false,
    "ExecuteTime": {
     "end_time": "2024-03-28T08:06:27.105088Z",
     "start_time": "2024-03-28T08:06:27.100622Z"
    }
   },
   "id": "bf0115bc7cf7bfdd",
   "execution_count": 12
  },
  {
   "cell_type": "markdown",
   "source": [
    "\"\"\"cast string to int \"\"\""
   ],
   "metadata": {
    "collapsed": false
   },
   "id": "b8e4a81a2c23e710"
  },
  {
   "cell_type": "code",
   "outputs": [
    {
     "name": "stdout",
     "output_type": "stream",
     "text": [
      "100 <class 'int'>\n"
     ]
    }
   ],
   "source": [
    "grade = \"100\"  # numeric string\n",
    "grade = int(grade)\n",
    "print(grade, type(grade))"
   ],
   "metadata": {
    "collapsed": false,
    "ExecuteTime": {
     "end_time": "2024-03-28T08:09:21.404093Z",
     "start_time": "2024-03-28T08:09:21.399400Z"
    }
   },
   "id": "17a971323ca1f131",
   "execution_count": 13
  },
  {
   "cell_type": "markdown",
   "source": [
    "check this ??"
   ],
   "metadata": {
    "collapsed": false
   },
   "id": "5ccb83df3736275"
  },
  {
   "cell_type": "code",
   "outputs": [
    {
     "name": "stdout",
     "output_type": "stream",
     "text": [
      "53\n",
      "52\n"
     ]
    }
   ],
   "source": [
    "name = 'noha'\n",
    "# name = int(name)\n",
    "print(sys.getsizeof(name))\n",
    "year = \"304\"\n",
    "print(sys.getsizeof(year))"
   ],
   "metadata": {
    "collapsed": false,
    "ExecuteTime": {
     "end_time": "2024-03-28T08:19:37.996255Z",
     "start_time": "2024-03-28T08:19:37.992672Z"
    }
   },
   "id": "50008d1332054d3e",
   "execution_count": 17
  },
  {
   "cell_type": "markdown",
   "source": [
    "logical operators in python"
   ],
   "metadata": {
    "collapsed": false
   },
   "id": "c2c70dabd45d4046"
  },
  {
   "cell_type": "code",
   "outputs": [
    {
     "name": "stdout",
     "output_type": "stream",
     "text": [
      "True\n",
      "True\n",
      "iti\n"
     ]
    }
   ],
   "source": [
    "print(bool(10))\n",
    "print(bool(\"iti\"))\n",
    "print(10 and \"iti\")  \n",
    "\n",
    "\n",
    "\n",
    "\n"
   ],
   "metadata": {
    "collapsed": false,
    "ExecuteTime": {
     "end_time": "2024-03-28T08:29:18.989664Z",
     "start_time": "2024-03-28T08:29:18.984999Z"
    }
   },
   "id": "af9e7411f866c8ca",
   "execution_count": 19
  },
  {
   "cell_type": "code",
   "outputs": [
    {
     "name": "stdout",
     "output_type": "stream",
     "text": [
      "False\n",
      "True\n"
     ]
    }
   ],
   "source": [
    "print(\"iti\" and False and\"abc\" and 100000 and -10000000000)  \n",
    "\n",
    "print(bool(-100))\n"
   ],
   "metadata": {
    "collapsed": false,
    "ExecuteTime": {
     "end_time": "2024-03-28T08:33:14.505461Z",
     "start_time": "2024-03-28T08:33:14.501064Z"
    }
   },
   "id": "2ca652353bd4be45",
   "execution_count": 22
  },
  {
   "cell_type": "markdown",
   "source": [
    "if- elif - else"
   ],
   "metadata": {
    "collapsed": false
   },
   "id": "b146772b374df957"
  },
  {
   "cell_type": "code",
   "outputs": [
    {
     "name": "stdout",
     "output_type": "stream",
     "text": [
      "000000000000\n"
     ]
    }
   ],
   "source": [
    "if name == 'ahmed':\n",
    "    print(\"-- hello world \")\n",
    "elif name =='mohamed':\n",
    "    print(\"----- bye\")\n",
    "else:\n",
    "    print(\"000000000000\")"
   ],
   "metadata": {
    "collapsed": false,
    "ExecuteTime": {
     "end_time": "2024-03-28T08:34:47.487190Z",
     "start_time": "2024-03-28T08:34:47.482153Z"
    }
   },
   "id": "98afe4eee73bf9d",
   "execution_count": 23
  },
  {
   "cell_type": "code",
   "outputs": [],
   "source": [],
   "metadata": {
    "collapsed": false
   },
   "id": "95469d1c47d77016"
  }
 ],
 "metadata": {
  "kernelspec": {
   "display_name": "Python 3",
   "language": "python",
   "name": "python3"
  },
  "language_info": {
   "codemirror_mode": {
    "name": "ipython",
    "version": 2
   },
   "file_extension": ".py",
   "mimetype": "text/x-python",
   "name": "python",
   "nbconvert_exporter": "python",
   "pygments_lexer": "ipython2",
   "version": "2.7.6"
  }
 },
 "nbformat": 4,
 "nbformat_minor": 5
}
