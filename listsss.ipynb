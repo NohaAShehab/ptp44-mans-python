{
 "cells": [
  {
   "cell_type": "raw",
   "source": [
    "list is the most common datatype in python\n",
    "list is mutable datatype ---> can be changed after creation"
   ],
   "metadata": {
    "collapsed": false
   },
   "id": "34000223e2cba3a4"
  },
  {
   "cell_type": "code",
   "outputs": [
    {
     "name": "stdout",
     "output_type": "stream",
     "text": [
      "[] []\n"
     ]
    }
   ],
   "source": [
    "\"1- define a list \"\n",
    "l = []\n",
    "myl = list()\n",
    "print(l, myl)"
   ],
   "metadata": {
    "collapsed": false,
    "ExecuteTime": {
     "end_time": "2024-03-28T09:46:26.752335Z",
     "start_time": "2024-03-28T09:46:26.742697Z"
    }
   },
   "id": "67a9667cd4bf59a0",
   "execution_count": 1
  },
  {
   "cell_type": "code",
   "outputs": [
    {
     "name": "stdout",
     "output_type": "stream",
     "text": [
      "[34, 4, 'iti', 344.32, 'ahmed', True, ['kubernates', 'GCP', 'ansible'], 'iti']\n"
     ]
    }
   ],
   "source": [
    "\"list can hold different data from different datatypes\"\n",
    "myl = [34,4, \"iti\", 344.32, \"ahmed\", True, ['kubernates', 'GCP', \"ansible\"], \"iti\"]\n",
    "print(myl)"
   ],
   "metadata": {
    "collapsed": false,
    "ExecuteTime": {
     "end_time": "2024-03-28T09:47:38.062193Z",
     "start_time": "2024-03-28T09:47:38.049349Z"
    }
   },
   "id": "dcbd11bad8a86090",
   "execution_count": 2
  },
  {
   "cell_type": "code",
   "outputs": [
    {
     "name": "stdout",
     "output_type": "stream",
     "text": [
      "ahmed\n",
      "ansible\n"
     ]
    }
   ],
   "source": [
    "\"\"\" each element is assigned to an index --> index start from 0 \"\"\"\n",
    "print(myl[4])\n",
    "print(myl[6][2])\n"
   ],
   "metadata": {
    "collapsed": false,
    "ExecuteTime": {
     "end_time": "2024-03-28T09:48:10.004723Z",
     "start_time": "2024-03-28T09:48:09.998289Z"
    }
   },
   "id": "e98cd1e917c2c4a2",
   "execution_count": 3
  },
  {
   "cell_type": "code",
   "outputs": [
    {
     "name": "stdout",
     "output_type": "stream",
     "text": [
      "8\n"
     ]
    }
   ],
   "source": [
    "\"get len of list\"\n",
    "print(len(myl))"
   ],
   "metadata": {
    "collapsed": false,
    "ExecuteTime": {
     "end_time": "2024-03-28T09:48:22.486648Z",
     "start_time": "2024-03-28T09:48:22.481499Z"
    }
   },
   "id": "6cca7b46b994631d",
   "execution_count": 4
  },
  {
   "cell_type": "code",
   "outputs": [
    {
     "name": "stdout",
     "output_type": "stream",
     "text": [
      "2\n"
     ]
    }
   ],
   "source": [
    "\"count element occurence\"\n",
    "# [34, 4, 'iti', 344.32, 'ahmed', True, ['kubernates', 'GCP', 'ansible'], 'iti']\n",
    "print(myl.count(\"iti\"))"
   ],
   "metadata": {
    "collapsed": false,
    "ExecuteTime": {
     "end_time": "2024-03-28T09:48:54.911961Z",
     "start_time": "2024-03-28T09:48:54.907407Z"
    }
   },
   "id": "2afa7e93c0b12ae5",
   "execution_count": 5
  },
  {
   "cell_type": "code",
   "outputs": [
    {
     "name": "stdout",
     "output_type": "stream",
     "text": [
      "2\n"
     ]
    }
   ],
   "source": [
    "\"\"\"get index of element \"\"\"\n",
    "print(myl.index(\"iti\"))  "
   ],
   "metadata": {
    "collapsed": false,
    "ExecuteTime": {
     "end_time": "2024-03-28T09:49:01.619509Z",
     "start_time": "2024-03-28T09:49:01.613685Z"
    }
   },
   "id": "ed6c321d6c9f346a",
   "execution_count": 6
  },
  {
   "cell_type": "code",
   "outputs": [
    {
     "name": "stdout",
     "output_type": "stream",
     "text": [
      "[344.32, 'ahmed']\n"
     ]
    }
   ],
   "source": [
    "\"\"\"slicing the list\n",
    "[34, 4, 'iti', 344.32, 'ahmed', True, ['kubernates', 'GCP', 'ansible'], 'iti']\n",
    "\"\"\"\n",
    "print(myl[3:5])  "
   ],
   "metadata": {
    "collapsed": false,
    "ExecuteTime": {
     "end_time": "2024-03-28T09:49:30.934618Z",
     "start_time": "2024-03-28T09:49:30.930885Z"
    }
   },
   "id": "551512bb90ade780",
   "execution_count": 7
  },
  {
   "cell_type": "code",
   "outputs": [
    {
     "name": "stdout",
     "output_type": "stream",
     "text": [
      "[34, 'iti', 'ahmed', ['kubernates', 'GCP', 'ansible']]\n"
     ]
    }
   ],
   "source": [
    "print(myl[::2])"
   ],
   "metadata": {
    "collapsed": false,
    "ExecuteTime": {
     "end_time": "2024-03-28T09:49:50.563493Z",
     "start_time": "2024-03-28T09:49:50.559455Z"
    }
   },
   "id": "d81d117f03bd8cd1",
   "execution_count": 8
  },
  {
   "cell_type": "code",
   "outputs": [
    {
     "name": "stdout",
     "output_type": "stream",
     "text": [
      "[34, 4, 'iti', 344.32, 'ahmed', True, ['kubernates', 'GCP', 'ansible'], 'iti']\n",
      "[34, 'updated', 'iti', 344.32, 'ahmed', True, ['kubernates', 'GCP', 'ansible'], 'iti']\n"
     ]
    }
   ],
   "source": [
    "\"\"\"list is mutable datatype --> can be changed after creation\"\"\"\n",
    "\"\"\"modify existing element\"\"\"\n",
    "# print(myl)\n",
    "myl=[34, 4, 'iti', 344.32, 'ahmed', True, ['kubernates', 'GCP', 'ansible'], 'iti']\n",
    "print(myl)\n",
    "myl[1] = \"updated\" \n",
    "print(myl)"
   ],
   "metadata": {
    "collapsed": false,
    "ExecuteTime": {
     "end_time": "2024-03-28T09:51:03.184004Z",
     "start_time": "2024-03-28T09:51:03.179833Z"
    }
   },
   "id": "3577b36175fad2e8",
   "execution_count": 13
  },
  {
   "cell_type": "code",
   "outputs": [
    {
     "ename": "IndexError",
     "evalue": "list assignment index out of range",
     "output_type": "error",
     "traceback": [
      "\u001B[0;31m---------------------------------------------------------------------------\u001B[0m",
      "\u001B[0;31mIndexError\u001B[0m                                Traceback (most recent call last)",
      "Cell \u001B[0;32mIn[14], line 1\u001B[0m\n\u001B[0;32m----> 1\u001B[0m \u001B[43mmyl\u001B[49m\u001B[43m[\u001B[49m\u001B[38;5;241;43m100\u001B[39;49m\u001B[43m]\u001B[49m\u001B[38;5;241m=\u001B[39m\u001B[38;5;124m'\u001B[39m\u001B[38;5;124mnew value\u001B[39m\u001B[38;5;124m'\u001B[39m  \n\u001B[1;32m      2\u001B[0m \u001B[38;5;28mprint\u001B[39m(myl)\n",
      "\u001B[0;31mIndexError\u001B[0m: list assignment index out of range"
     ]
    }
   ],
   "source": [
    "\"You can only update elements at existing indices\"\n",
    "myl[100]='new value'  \n",
    "print(myl) # IndexError: list assignment index out of range"
   ],
   "metadata": {
    "collapsed": false,
    "ExecuteTime": {
     "end_time": "2024-03-28T09:51:33.040769Z",
     "start_time": "2024-03-28T09:51:32.829084Z"
    }
   },
   "id": "39683dbc5f064a60",
   "execution_count": 14
  },
  {
   "cell_type": "markdown",
   "source": [
    "\"\"\" add element to the list \"\"\""
   ],
   "metadata": {
    "collapsed": false
   },
   "id": "44b856efde733c32"
  },
  {
   "cell_type": "code",
   "outputs": [
    {
     "name": "stdout",
     "output_type": "stream",
     "text": [
      "[34, 'updated', 'iti', 344.32, 'ahmed', True, ['kubernates', 'GCP', 'ansible'], 'iti']\n",
      "[34, 'updated', 'iti', 344.32, 'ahmed', True, ['kubernates', 'GCP', 'ansible'], 'iti', 'new element']\n"
     ]
    }
   ],
   "source": [
    "print(myl)\n",
    "myl.append(\"new element\") \n",
    "print(myl)\n"
   ],
   "metadata": {
    "collapsed": false,
    "ExecuteTime": {
     "end_time": "2024-03-28T09:52:52.696808Z",
     "start_time": "2024-03-28T09:52:52.693757Z"
    }
   },
   "id": "455df3b9dffe063d",
   "execution_count": 15
  },
  {
   "cell_type": "code",
   "outputs": [
    {
     "name": "stdout",
     "output_type": "stream",
     "text": [
      "[34, 'updated', 'inserted element', 'iti', 344.32, 'ahmed', True, ['kubernates', 'GCP', 'ansible'], 'iti', 'new element']\n"
     ]
    }
   ],
   "source": [
    "\"insert  element in certain position // index \"\n",
    "myl.insert(2, \"inserted element\")\n",
    "print(myl)"
   ],
   "metadata": {
    "collapsed": false,
    "ExecuteTime": {
     "end_time": "2024-03-28T09:53:36.043830Z",
     "start_time": "2024-03-28T09:53:36.040557Z"
    }
   },
   "id": "a3faca67c6692e49",
   "execution_count": 16
  },
  {
   "cell_type": "code",
   "outputs": [
    {
     "name": "stdout",
     "output_type": "stream",
     "text": [
      "[34, 'updated', 'inserted element', 'iti', 344.32, 'ahmed', True, ['kubernates', 'GCP', 'ansible'], 'iti', 'new element', 'anyvalue']\n"
     ]
    }
   ],
   "source": [
    "myl.insert(100 , \"anyvalue\")   # insert value at the end ... if index doesn't exists\n",
    "print(myl)"
   ],
   "metadata": {
    "collapsed": false,
    "ExecuteTime": {
     "end_time": "2024-03-28T09:54:00.464178Z",
     "start_time": "2024-03-28T09:54:00.452011Z"
    }
   },
   "id": "ef4c48c101d912af",
   "execution_count": 17
  },
  {
   "cell_type": "raw",
   "source": [
    "Remove Element from list"
   ],
   "metadata": {
    "collapsed": false
   },
   "id": "4577266536e6d0cd"
  },
  {
   "cell_type": "code",
   "outputs": [
    {
     "name": "stdout",
     "output_type": "stream",
     "text": [
      "[34, 'updated', 'inserted element', 'iti', 344.32, 'ahmed', True, ['kubernates', 'GCP', 'ansible'], 'iti', 'new element', 'anyvalue']\n"
     ]
    }
   ],
   "source": [
    "\"\"\" remove element from list \"\"\"\n",
    "print(myl)\n",
    "popped_value=myl.pop()  # remove element from the end of the list  and retrun with popped value"
   ],
   "metadata": {
    "collapsed": false,
    "ExecuteTime": {
     "end_time": "2024-03-28T09:54:44.925996Z",
     "start_time": "2024-03-28T09:54:44.921654Z"
    }
   },
   "id": "85999e7dc1e59a78",
   "execution_count": 18
  },
  {
   "cell_type": "code",
   "outputs": [
    {
     "name": "stdout",
     "output_type": "stream",
     "text": [
      "anyvalue\n",
      "[34, 'updated', 'inserted element', 'iti', 344.32, 'ahmed', True, ['kubernates', 'GCP', 'ansible'], 'iti', 'new element']\n"
     ]
    }
   ],
   "source": [
    "print(popped_value)\n",
    "print(myl)"
   ],
   "metadata": {
    "collapsed": false,
    "ExecuteTime": {
     "end_time": "2024-03-28T09:55:24.552761Z",
     "start_time": "2024-03-28T09:55:24.548142Z"
    }
   },
   "id": "d548f1e9af37d421",
   "execution_count": 19
  },
  {
   "cell_type": "code",
   "outputs": [],
   "source": [
    "\"\"\"remove element at index --> \"\"\"\n",
    "popped_index_value=myl.pop(4)"
   ],
   "metadata": {
    "collapsed": false,
    "ExecuteTime": {
     "end_time": "2024-03-28T09:56:09.166806Z",
     "start_time": "2024-03-28T09:56:09.163260Z"
    }
   },
   "id": "a6266bcf2b753873",
   "execution_count": 20
  },
  {
   "cell_type": "code",
   "outputs": [
    {
     "name": "stdout",
     "output_type": "stream",
     "text": [
      "344.32\n",
      "[34, 'updated', 'inserted element', 'iti', 'ahmed', True, ['kubernates', 'GCP', 'ansible'], 'iti', 'new element']\n"
     ]
    }
   ],
   "source": [
    "print(popped_index_value)\n",
    "print(myl)"
   ],
   "metadata": {
    "collapsed": false,
    "ExecuteTime": {
     "end_time": "2024-03-28T09:56:10.750485Z",
     "start_time": "2024-03-28T09:56:10.746277Z"
    }
   },
   "id": "eba511e27f72a377",
   "execution_count": 21
  },
  {
   "cell_type": "code",
   "outputs": [
    {
     "name": "stdout",
     "output_type": "stream",
     "text": [
      "[34, 'updated', 'inserted element', 'ahmed', True, ['kubernates', 'GCP', 'ansible'], 'iti', 'new element']\n"
     ]
    }
   ],
   "source": [
    "\"\"\"remove element from the list\"\"\"\n",
    "myl.remove(\"iti\")  # remove first occurence from list\n",
    "print(myl)"
   ],
   "metadata": {
    "collapsed": false,
    "ExecuteTime": {
     "end_time": "2024-03-28T09:56:38.098737Z",
     "start_time": "2024-03-28T09:56:38.087552Z"
    }
   },
   "id": "25fefbc8b9aa69af",
   "execution_count": 22
  },
  {
   "cell_type": "code",
   "outputs": [],
   "source": [
    "\"\"\" loop over the list \"\"\""
   ],
   "metadata": {
    "collapsed": false
   },
   "id": "dc258b2884fa05dc"
  },
  {
   "cell_type": "code",
   "outputs": [
    {
     "name": "stdout",
     "output_type": "stream",
     "text": [
      "element = 34\n",
      "element = updated\n",
      "element = inserted element\n",
      "element = ahmed\n",
      "element = True\n",
      "element = ['kubernates', 'GCP', 'ansible']\n",
      "element = iti\n",
      "element = new element\n"
     ]
    }
   ],
   "source": [
    "for element in myl:\n",
    "    print(f\"element = {element}\")"
   ],
   "metadata": {
    "collapsed": false,
    "ExecuteTime": {
     "end_time": "2024-03-28T09:56:55.056628Z",
     "start_time": "2024-03-28T09:56:55.052513Z"
    }
   },
   "id": "fcca498f85ee8883",
   "execution_count": 23
  },
  {
   "cell_type": "code",
   "outputs": [
    {
     "name": "stdout",
     "output_type": "stream",
     "text": [
      "True\n"
     ]
    }
   ],
   "source": [
    "\"\"\"check element in list or not \"\"\"\n",
    "print(\"iti\" in myl)"
   ],
   "metadata": {
    "collapsed": false,
    "ExecuteTime": {
     "end_time": "2024-03-28T09:57:02.874449Z",
     "start_time": "2024-03-28T09:57:02.869327Z"
    }
   },
   "id": "e31b35edd0c44158",
   "execution_count": 24
  },
  {
   "cell_type": "code",
   "outputs": [],
   "source": [
    "\"\"\"---> list concat\"\"\"\n",
    "l1 = [\"python\", \"mongo\", \"javascript\", \"sql\"]\n",
    "l2= [\"jenkins\", \"GCP\", \"Ansible\", \"Kubernates\", \"Docker\"]"
   ],
   "metadata": {
    "collapsed": false,
    "ExecuteTime": {
     "end_time": "2024-03-28T09:57:15.596010Z",
     "start_time": "2024-03-28T09:57:15.591619Z"
    }
   },
   "id": "6b995d7c48526d37",
   "execution_count": 25
  },
  {
   "cell_type": "code",
   "outputs": [
    {
     "name": "stdout",
     "output_type": "stream",
     "text": [
      "['python', 'mongo', 'javascript', 'sql', 'jenkins', 'GCP', 'Ansible', 'Kubernates', 'Docker']\n"
     ]
    }
   ],
   "source": [
    "lst_of_courses = l1  + l2  # return with new list \n",
    "print(lst_of_courses)"
   ],
   "metadata": {
    "collapsed": false,
    "ExecuteTime": {
     "end_time": "2024-03-28T09:57:17.456624Z",
     "start_time": "2024-03-28T09:57:17.452083Z"
    }
   },
   "id": "7e023ca9034925c7",
   "execution_count": 26
  },
  {
   "cell_type": "code",
   "outputs": [
    {
     "name": "stdout",
     "output_type": "stream",
     "text": [
      "['python', 'mongo', 'javascript', 'sql', 'jenkins', 'GCP', 'Ansible', 'Kubernates', 'Docker']\n",
      "['jenkins', 'GCP', 'Ansible', 'Kubernates', 'Docker']\n"
     ]
    }
   ],
   "source": [
    "\"\"\"extend a list \"\"\"\n",
    "l1.extend(l2)  # extend l1 content with l2 \n",
    "print(l1)\n",
    "print(l2)"
   ],
   "metadata": {
    "collapsed": false,
    "ExecuteTime": {
     "end_time": "2024-03-28T09:57:58.961590Z",
     "start_time": "2024-03-28T09:57:58.957457Z"
    }
   },
   "id": "ce4c03ca93052579",
   "execution_count": 27
  },
  {
   "cell_type": "raw",
   "source": [
    "Sort list --> comparing  ---> list --> elements must be  from the same type"
   ],
   "metadata": {
    "collapsed": false
   },
   "id": "d84fb52170184e7b"
  },
  {
   "cell_type": "code",
   "outputs": [
    {
     "name": "stdout",
     "output_type": "stream",
     "text": [
      "['python', 'mongo', 'javascript', 'sql', 'jenkins', 'GCP', 'Ansible', 'Kubernates', 'Docker']\n",
      "['Ansible', 'Docker', 'GCP', 'Kubernates', 'javascript', 'jenkins', 'mongo', 'python', 'sql']\n"
     ]
    }
   ],
   "source": [
    "print(lst_of_courses)\n",
    "lst_of_courses.sort()    # sort in the existing variable\n",
    "## sort ---> sort existing list\n",
    "print(lst_of_courses)\n"
   ],
   "metadata": {
    "collapsed": false,
    "ExecuteTime": {
     "end_time": "2024-03-28T10:00:29.778684Z",
     "start_time": "2024-03-28T10:00:29.772878Z"
    }
   },
   "id": "98a4f7e85569d39",
   "execution_count": 28
  },
  {
   "cell_type": "code",
   "outputs": [
    {
     "name": "stdout",
     "output_type": "stream",
     "text": [
      "['sql', 'python', 'mongo', 'jenkins', 'javascript', 'Kubernates', 'GCP', 'Docker', 'Ansible']\n"
     ]
    }
   ],
   "source": [
    "lst_of_courses.sort(reverse=True)\n",
    "print(lst_of_courses)"
   ],
   "metadata": {
    "collapsed": false,
    "ExecuteTime": {
     "end_time": "2024-03-28T10:02:18.246858Z",
     "start_time": "2024-03-28T10:02:18.243364Z"
    }
   },
   "id": "5c16a7cdf7bc85b3",
   "execution_count": 29
  },
  {
   "cell_type": "raw",
   "source": [
    "reverse the list?"
   ],
   "metadata": {
    "collapsed": false
   },
   "id": "78475ba56465d0a4"
  },
  {
   "cell_type": "code",
   "outputs": [
    {
     "name": "stdout",
     "output_type": "stream",
     "text": [
      "[34, 'updated', 'inserted element', 'ahmed', True, ['kubernates', 'GCP', 'ansible'], 'iti', 'new element']\n",
      "['new element', 'iti', ['kubernates', 'GCP', 'ansible'], True, 'ahmed', 'inserted element', 'updated', 34]\n"
     ]
    }
   ],
   "source": [
    "print(myl)\n",
    "myl.reverse()\n",
    "print(myl)"
   ],
   "metadata": {
    "collapsed": false,
    "ExecuteTime": {
     "end_time": "2024-03-28T10:02:48.591167Z",
     "start_time": "2024-03-28T10:02:48.587305Z"
    }
   },
   "id": "15b6877f02a28965",
   "execution_count": 30
  },
  {
   "cell_type": "markdown",
   "source": [
    "Casting string to a list."
   ],
   "metadata": {
    "collapsed": false
   },
   "id": "c2aaea75692a7419"
  },
  {
   "cell_type": "code",
   "outputs": [
    {
     "name": "stdout",
     "output_type": "stream",
     "text": [
      "['n', 'o', 'h', 'a']\n"
     ]
    }
   ],
   "source": [
    "name = 'noha'\n",
    "name = list(name)\n",
    "print(name)"
   ],
   "metadata": {
    "collapsed": false,
    "ExecuteTime": {
     "end_time": "2024-03-28T10:03:19.578865Z",
     "start_time": "2024-03-28T10:03:19.575765Z"
    }
   },
   "id": "7b80bbc6838b4563",
   "execution_count": 31
  },
  {
   "cell_type": "code",
   "outputs": [
    {
     "name": "stdout",
     "output_type": "stream",
     "text": [
      "['we support gh', 'z', '  ']\n"
     ]
    }
   ],
   "source": [
    "\"\"\"split string to a list \"\"\"\n",
    "message = 'we support ghaza'\n",
    "newl = message.split(\"a\")\n",
    "print(newl)"
   ],
   "metadata": {
    "collapsed": false,
    "ExecuteTime": {
     "end_time": "2024-03-28T10:07:09.066482Z",
     "start_time": "2024-03-28T10:07:09.051310Z"
    }
   },
   "id": "9f0d8c62a9bb8206",
   "execution_count": 37
  },
  {
   "cell_type": "markdown",
   "source": [
    "min-max"
   ],
   "metadata": {
    "collapsed": false
   },
   "id": "3f32b3b8484e1f6b"
  },
  {
   "cell_type": "code",
   "outputs": [],
   "source": [
    "print(min([3,454,23,323,12,21]))\n",
    "print(max([3,454,23,323,12,21]))"
   ],
   "metadata": {
    "collapsed": false
   },
   "id": "c804f2e8d054bbd5"
  },
  {
   "cell_type": "markdown",
   "source": [
    "for loop and index "
   ],
   "metadata": {
    "collapsed": false
   },
   "id": "e4349a78f40ee440"
  },
  {
   "cell_type": "code",
   "outputs": [],
   "source": [
    "index  = 0\n",
    "for item in myl:\n",
    "    print(f\" {item} , {myl.index(item)} : {index}\")\n",
    "    index +=1"
   ],
   "metadata": {
    "collapsed": false
   },
   "id": "991f15b0e1a605a1"
  },
  {
   "cell_type": "raw",
   "source": [
    "enumuate function"
   ],
   "metadata": {
    "collapsed": false
   },
   "id": "144de569d7c3564"
  },
  {
   "cell_type": "code",
   "outputs": [
    {
     "name": "stdout",
     "output_type": "stream",
     "text": [
      "<enumerate object at 0x7e97f2baa2a0>\n"
     ]
    }
   ],
   "source": [
    "myl_enum = enumerate(myl) # generate index for iterable\n",
    "print(myl_enum)  # enum_object\n"
   ],
   "metadata": {
    "collapsed": false,
    "ExecuteTime": {
     "end_time": "2024-03-28T10:07:55.901653Z",
     "start_time": "2024-03-28T10:07:55.898571Z"
    }
   },
   "id": "6e52b960a636987",
   "execution_count": 38
  },
  {
   "cell_type": "markdown",
   "source": [
    "use it with loops"
   ],
   "metadata": {
    "collapsed": false
   },
   "id": "570497a49be693f5"
  },
  {
   "cell_type": "code",
   "outputs": [
    {
     "name": "stdout",
     "output_type": "stream",
     "text": [
      "['new element', 'iti', ['kubernates', 'GCP', 'ansible'], True, 'ahmed', 'inserted element', 'updated', 34]\n",
      "new element\n",
      "iti\n",
      "['kubernates', 'GCP', 'ansible']\n",
      "True\n",
      "ahmed\n",
      "inserted element\n",
      "updated\n",
      "34\n"
     ]
    }
   ],
   "source": [
    "print(myl)\n",
    "for item in myl:\n",
    "    print(item)"
   ],
   "metadata": {
    "collapsed": false,
    "ExecuteTime": {
     "end_time": "2024-03-28T10:09:09.522241Z",
     "start_time": "2024-03-28T10:09:09.518915Z"
    }
   },
   "id": "e7fc01c965975504",
   "execution_count": 41
  },
  {
   "cell_type": "code",
   "outputs": [
    {
     "name": "stdout",
     "output_type": "stream",
     "text": [
      "0 : new element\n",
      "1 : iti\n",
      "2 : ['kubernates', 'GCP', 'ansible']\n",
      "3 : True\n",
      "4 : ahmed\n",
      "5 : inserted element\n",
      "6 : updated\n",
      "7 : 34\n"
     ]
    }
   ],
   "source": [
    "for index , item in myl_enum:\n",
    "    print(f\"{index} : {item}\")"
   ],
   "metadata": {
    "collapsed": false,
    "ExecuteTime": {
     "end_time": "2024-03-28T10:08:33.698879Z",
     "start_time": "2024-03-28T10:08:33.695301Z"
    }
   },
   "id": "eba1677a53d06611",
   "execution_count": 40
  },
  {
   "cell_type": "code",
   "outputs": [],
   "source": [],
   "metadata": {
    "collapsed": false
   },
   "id": "500cead04a8a85ca"
  }
 ],
 "metadata": {
  "kernelspec": {
   "display_name": "Python 3",
   "language": "python",
   "name": "python3"
  },
  "language_info": {
   "codemirror_mode": {
    "name": "ipython",
    "version": 2
   },
   "file_extension": ".py",
   "mimetype": "text/x-python",
   "name": "python",
   "nbconvert_exporter": "python",
   "pygments_lexer": "ipython2",
   "version": "2.7.6"
  }
 },
 "nbformat": 4,
 "nbformat_minor": 5
}
