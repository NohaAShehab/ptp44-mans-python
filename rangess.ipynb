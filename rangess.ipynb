{
 "cells": [
  {
   "cell_type": "raw",
   "source": [
    "while loop"
   ],
   "metadata": {
    "collapsed": false
   },
   "id": "e9e9abb2bcd757c3"
  },
  {
   "cell_type": "code",
   "outputs": [],
   "source": [
    "num = 0\n",
    "newll = []\n",
    "while num < 10:\n",
    "    newll.append(num)\n",
    "    num +=1\n",
    "\n",
    "print(newll)"
   ],
   "metadata": {
    "collapsed": false
   },
   "id": "7f31fc8cd71077d0"
  },
  {
   "cell_type": "markdown",
   "source": [
    "define a range"
   ],
   "metadata": {
    "collapsed": false
   },
   "id": "9507f017e4c2dd6c"
  },
  {
   "cell_type": "code",
   "outputs": [],
   "source": [
    "myr = range(0 , 10 )\n",
    "print(myr)"
   ],
   "metadata": {
    "collapsed": false
   },
   "id": "82fa4a6feb678a3a"
  },
  {
   "cell_type": "code",
   "outputs": [],
   "source": [
    "myrange = range(10 , 1 , -1)\n",
    "print(list(myrange))\n",
    "\n",
    "for item in myrange:\n",
    "    print(item)"
   ],
   "metadata": {
    "collapsed": false
   },
   "id": "acaf8b9522a523fc"
  }
 ],
 "metadata": {
  "kernelspec": {
   "display_name": "Python 3",
   "language": "python",
   "name": "python3"
  },
  "language_info": {
   "codemirror_mode": {
    "name": "ipython",
    "version": 2
   },
   "file_extension": ".py",
   "mimetype": "text/x-python",
   "name": "python",
   "nbconvert_exporter": "python",
   "pygments_lexer": "ipython2",
   "version": "2.7.6"
  }
 },
 "nbformat": 4,
 "nbformat_minor": 5
}
