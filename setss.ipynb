{
 "cells": [
  {
   "cell_type": "markdown",
   "source": [
    "1- remove duplicates\n",
    "2- no orders ---> items in random order\n",
    "3- mutable datatype\n",
    "4- can hold only immutable datatypes "
   ],
   "metadata": {
    "collapsed": false
   },
   "id": "334a2ac5ae0d804"
  },
  {
   "cell_type": "code",
   "outputs": [
    {
     "name": "stdout",
     "output_type": "stream",
     "text": [
      "{'Mohamed', 3234, 3.12, 'Ahmed', 'Zeinab', 'iti'}\n",
      "6\n"
     ]
    }
   ],
   "source": [
    "myss = set()\n",
    "mys = {\"Ahmed\", \"Zeinab\", \"iti\", 3234, \"Ahmed\", \"Mohamed\", \"Mohamed\",\"Mohamed\", 3.12}\n",
    "\n",
    "print(mys)\n",
    "print(len(mys))"
   ],
   "metadata": {
    "collapsed": true,
    "ExecuteTime": {
     "end_time": "2024-03-28T10:47:01.775449Z",
     "start_time": "2024-03-28T10:47:01.768448Z"
    }
   },
   "id": "initial_id",
   "execution_count": 1
  },
  {
   "cell_type": "markdown",
   "source": [
    "\"\"\" add element to the set ? \"\"\""
   ],
   "metadata": {
    "collapsed": false
   },
   "id": "33d2c193d05d943f"
  },
  {
   "cell_type": "code",
   "outputs": [
    {
     "name": "stdout",
     "output_type": "stream",
     "text": [
      "{'Mohamed', 3234, 3.12, 'Ahmed', 'added item', 'Zeinab', 'iti'}\n"
     ]
    }
   ],
   "source": [
    "mys.add(\"added item\")\n",
    "print(mys)"
   ],
   "metadata": {
    "collapsed": false,
    "ExecuteTime": {
     "end_time": "2024-03-28T10:48:17.805879Z",
     "start_time": "2024-03-28T10:48:17.800247Z"
    }
   },
   "id": "fc50796f0c484325",
   "execution_count": 2
  },
  {
   "cell_type": "markdown",
   "source": [
    "check this"
   ],
   "metadata": {
    "collapsed": false
   },
   "id": "9b22ce22e3ee9006"
  },
  {
   "cell_type": "code",
   "outputs": [
    {
     "name": "stdout",
     "output_type": "stream",
     "text": [
      "{'Mohamed', 3234, 3.12, 'Ahmed', ('bash', 'python'), 'added item', 'Zeinab', 'iti'}\n"
     ]
    }
   ],
   "source": [
    "mys.add((\"bash\", \"python\"))\n",
    "print(mys)"
   ],
   "metadata": {
    "collapsed": false,
    "ExecuteTime": {
     "end_time": "2024-03-28T10:48:30.067496Z",
     "start_time": "2024-03-28T10:48:30.059354Z"
    }
   },
   "id": "5db2fb9a3fe17afd",
   "execution_count": 3
  },
  {
   "cell_type": "markdown",
   "source": [
    "remove element from set"
   ],
   "metadata": {
    "collapsed": false
   },
   "id": "a52f214d9533f649"
  },
  {
   "cell_type": "code",
   "outputs": [
    {
     "ename": "TypeError",
     "evalue": "unhashable type: 'list'",
     "output_type": "error",
     "traceback": [
      "\u001B[0;31m---------------------------------------------------------------------------\u001B[0m",
      "\u001B[0;31mTypeError\u001B[0m                                 Traceback (most recent call last)",
      "Cell \u001B[0;32mIn[4], line 1\u001B[0m\n\u001B[0;32m----> 1\u001B[0m \u001B[43mmys\u001B[49m\u001B[38;5;241;43m.\u001B[39;49m\u001B[43madd\u001B[49m\u001B[43m(\u001B[49m\u001B[43m[\u001B[49m\u001B[38;5;124;43m\"\u001B[39;49m\u001B[38;5;124;43miti\u001B[39;49m\u001B[38;5;124;43m\"\u001B[39;49m\u001B[43m,\u001B[49m\u001B[43m \u001B[49m\u001B[38;5;124;43m\"\u001B[39;49m\u001B[38;5;124;43mopensource\u001B[39;49m\u001B[38;5;124;43m\"\u001B[39;49m\u001B[43m,\u001B[49m\u001B[43m \u001B[49m\u001B[38;5;124;43m\"\u001B[39;49m\u001B[38;5;124;43mpython\u001B[39;49m\u001B[38;5;124;43m\"\u001B[39;49m\u001B[43m]\u001B[49m\u001B[43m)\u001B[49m\n",
      "\u001B[0;31mTypeError\u001B[0m: unhashable type: 'list'"
     ]
    }
   ],
   "source": [
    "mys.add([\"iti\", \"opensource\", \"python\"])"
   ],
   "metadata": {
    "collapsed": false,
    "ExecuteTime": {
     "end_time": "2024-03-28T10:49:01.256821Z",
     "start_time": "2024-03-28T10:49:01.068898Z"
    }
   },
   "id": "d4ac30a7430020b8",
   "execution_count": 4
  },
  {
   "cell_type": "code",
   "outputs": [],
   "source": [
    "\n",
    "\n",
    "mys.remove(\"Ahmed\")\n",
    "print(mys)"
   ],
   "metadata": {
    "collapsed": false
   },
   "id": "55a5f11faeaa808e"
  },
  {
   "cell_type": "code",
   "outputs": [],
   "source": [
    "popped_element=mys.pop()\n",
    "print(mys)\n",
    "print(popped_element)"
   ],
   "metadata": {
    "collapsed": false
   },
   "id": "53e42b3fa3193a58"
  }
 ],
 "metadata": {
  "kernelspec": {
   "display_name": "Python 3",
   "language": "python",
   "name": "python3"
  },
  "language_info": {
   "codemirror_mode": {
    "name": "ipython",
    "version": 2
   },
   "file_extension": ".py",
   "mimetype": "text/x-python",
   "name": "python",
   "nbconvert_exporter": "python",
   "pygments_lexer": "ipython2",
   "version": "2.7.6"
  }
 },
 "nbformat": 4,
 "nbformat_minor": 5
}
