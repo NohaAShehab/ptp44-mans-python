{
 "cells": [
  {
   "cell_type": "markdown",
   "source": [],
   "metadata": {
    "collapsed": false
   },
   "id": "45a20ba2d1a4464d"
  },
  {
   "cell_type": "raw",
   "source": [
    "\"\"\" define string \"\"\""
   ],
   "metadata": {
    "collapsed": false
   },
   "id": "46d9cb1d1bc03c79"
  },
  {
   "cell_type": "code",
   "outputs": [
    {
     "name": "stdout",
     "output_type": "stream",
     "text": [
      "information technology institute\n"
     ]
    }
   ],
   "source": [
    "work = \"information technology institute\"\n",
    "print(work)"
   ],
   "metadata": {
    "collapsed": false,
    "ExecuteTime": {
     "end_time": "2024-03-28T08:47:34.882832Z",
     "start_time": "2024-03-28T08:47:34.879048Z"
    }
   },
   "id": "b32a4f690bf5cbd9",
   "execution_count": 7
  },
  {
   "cell_type": "markdown",
   "source": [],
   "metadata": {
    "collapsed": false
   },
   "id": "6cd690d20689afd3"
  },
  {
   "cell_type": "code",
   "outputs": [
    {
     "name": "stdout",
     "output_type": "stream",
     "text": [
      "39\n"
     ]
    }
   ],
   "source": [
    "\"1- get len of the string \"\n",
    "print(len(work))"
   ],
   "metadata": {
    "collapsed": false,
    "ExecuteTime": {
     "end_time": "2024-03-28T08:47:11.092666Z",
     "start_time": "2024-03-28T08:47:11.089412Z"
    }
   },
   "id": "91aa670cb87c64f7",
   "execution_count": 5
  },
  {
   "cell_type": "markdown",
   "source": [
    "Any slicing operation applied on the string --> return new string "
   ],
   "metadata": {
    "collapsed": false
   },
   "id": "217f82c88b2e3988"
  },
  {
   "cell_type": "code",
   "outputs": [
    {
     "name": "stdout",
     "output_type": "stream",
     "text": [
      "for\n"
     ]
    },
    {
     "data": {
      "text/plain": "'for'"
     },
     "execution_count": 8,
     "metadata": {},
     "output_type": "execute_result"
    }
   ],
   "source": [
    "\"2- slicing string \"\n",
    "print(work[2:5])\n",
    "# information technology institute\n",
    "\n",
    "\"for\"\n",
    "\n",
    "\n",
    "\n",
    "\n"
   ],
   "metadata": {
    "collapsed": false,
    "ExecuteTime": {
     "end_time": "2024-03-28T08:48:38.574364Z",
     "start_time": "2024-03-28T08:48:38.564604Z"
    }
   },
   "id": "2967005984a9d828",
   "execution_count": 8
  },
  {
   "cell_type": "code",
   "outputs": [
    {
     "name": "stdout",
     "output_type": "stream",
     "text": [
      "ation technology institute\n"
     ]
    }
   ],
   "source": [
    "print(work[6:])"
   ],
   "metadata": {
    "collapsed": false,
    "ExecuteTime": {
     "end_time": "2024-03-28T08:48:47.298396Z",
     "start_time": "2024-03-28T08:48:47.293902Z"
    }
   },
   "id": "1beea5d26ffc8ecc",
   "execution_count": 9
  },
  {
   "cell_type": "code",
   "outputs": [
    {
     "name": "stdout",
     "output_type": "stream",
     "text": [
      "information technology institute\n"
     ]
    }
   ],
   "source": [
    "print(work[::])"
   ],
   "metadata": {
    "collapsed": false,
    "ExecuteTime": {
     "end_time": "2024-03-28T08:48:56.640520Z",
     "start_time": "2024-03-28T08:48:56.635981Z"
    }
   },
   "id": "8087b521416b0968",
   "execution_count": 10
  },
  {
   "cell_type": "code",
   "outputs": [
    {
     "name": "stdout",
     "output_type": "stream",
     "text": [
      "etutitsni ygolonhcet noitamrofni\n"
     ]
    }
   ],
   "source": [
    "print(work[::-1])  # reverse string"
   ],
   "metadata": {
    "collapsed": false,
    "ExecuteTime": {
     "end_time": "2024-03-28T08:49:07.033953Z",
     "start_time": "2024-03-28T08:49:07.028437Z"
    }
   },
   "id": "384c3547e8c4139f",
   "execution_count": 11
  },
  {
   "cell_type": "code",
   "outputs": [
    {
     "name": "stdout",
     "output_type": "stream",
     "text": [
      "ifraintcnlg nttt\n"
     ]
    }
   ],
   "source": [
    "print(work[::2])"
   ],
   "metadata": {
    "collapsed": false,
    "ExecuteTime": {
     "end_time": "2024-03-28T08:50:26.546794Z",
     "start_time": "2024-03-28T08:50:26.541982Z"
    }
   },
   "id": "1cb74f4c1d939b95",
   "execution_count": 12
  },
  {
   "cell_type": "code",
   "outputs": [
    {
     "name": "stdout",
     "output_type": "stream",
     "text": [
      "4\n"
     ]
    }
   ],
   "source": [
    "\"\"\"count char occurrence in string \"\"\"\n",
    "print(work.count(\"i\"))"
   ],
   "metadata": {
    "collapsed": false,
    "ExecuteTime": {
     "end_time": "2024-03-28T08:51:01.321773Z",
     "start_time": "2024-03-28T08:51:01.316928Z"
    }
   },
   "id": "24ecfc8bde5b0439",
   "execution_count": 13
  },
  {
   "cell_type": "code",
   "outputs": [
    {
     "name": "stdout",
     "output_type": "stream",
     "text": [
      "n\n"
     ]
    }
   ],
   "source": [
    "# information technology institute\n",
    "\"\"\" access char at index \"\"\"\n",
    "print(work[10])\n"
   ],
   "metadata": {
    "collapsed": false,
    "ExecuteTime": {
     "end_time": "2024-03-28T08:51:43.062367Z",
     "start_time": "2024-03-28T08:51:43.057485Z"
    }
   },
   "id": "20f333a8a436def5",
   "execution_count": 14
  },
  {
   "cell_type": "code",
   "outputs": [
    {
     "name": "stdout",
     "output_type": "stream",
     "text": [
      "0\n"
     ]
    }
   ],
   "source": [
    "\"\"\"get index of char\"\"\"\n",
    "\n",
    "print(work.index(\"i\"))   # return index of the first occurrence of the char\n"
   ],
   "metadata": {
    "collapsed": false,
    "ExecuteTime": {
     "end_time": "2024-03-28T08:52:50.788907Z",
     "start_time": "2024-03-28T08:52:50.785785Z"
    }
   },
   "id": "837b4ee6535e31d7",
   "execution_count": 15
  },
  {
   "cell_type": "raw",
   "source": [
    "\n",
    "String is immutable datatype --> once created cannot be changed// \n",
    "any operation applied on the string --> return new string\n"
   ],
   "metadata": {
    "collapsed": false
   },
   "id": "5a2599f9eb055eca"
  },
  {
   "cell_type": "code",
   "outputs": [],
   "source": [
    "\n",
    "\"\"\" convert string --> upper// lower // title // capitalize \"\"\"\n",
    "\n",
    "name = 'ahmed mohamed'"
   ],
   "metadata": {
    "collapsed": false,
    "ExecuteTime": {
     "end_time": "2024-03-28T08:54:04.106116Z",
     "start_time": "2024-03-28T08:54:04.102872Z"
    }
   },
   "id": "4ea19384f086717d",
   "execution_count": 17
  },
  {
   "cell_type": "code",
   "outputs": [
    {
     "name": "stdout",
     "output_type": "stream",
     "text": [
      "AHMED MOHAMED\n",
      "ahmed mohamed\n",
      "Ahmed Mohamed\n",
      "Ahmed mohamed\n"
     ]
    }
   ],
   "source": [
    "print(name.upper())    # return new string\n",
    "print(name.lower())\n",
    "print(name.title())\n",
    "print(name.capitalize())"
   ],
   "metadata": {
    "collapsed": false,
    "ExecuteTime": {
     "end_time": "2024-03-28T08:54:41.024184Z",
     "start_time": "2024-03-28T08:54:41.019055Z"
    }
   },
   "id": "966340f0b8fea2ba",
   "execution_count": 21
  },
  {
   "cell_type": "code",
   "outputs": [
    {
     "name": "stdout",
     "output_type": "stream",
     "text": [
      "helloGhaza\n"
     ]
    }
   ],
   "source": [
    "\"\"\" string concat\"\"\"\n",
    "message = 'hello'\n",
    "message2 = 'Ghaza'\n",
    "year = 2024\n",
    "message3 = message + message2\n",
    "print(message3)  # return new string"
   ],
   "metadata": {
    "collapsed": false,
    "ExecuteTime": {
     "end_time": "2024-03-28T08:55:26.947084Z",
     "start_time": "2024-03-28T08:55:26.936551Z"
    }
   },
   "id": "13a339cb7520e04f",
   "execution_count": 23
  },
  {
   "cell_type": "markdown",
   "source": [
    "check this "
   ],
   "metadata": {
    "collapsed": false
   },
   "id": "b9f2cc11c5f07767"
  },
  {
   "cell_type": "code",
   "outputs": [
    {
     "ename": "TypeError",
     "evalue": "can only concatenate str (not \"int\") to str",
     "output_type": "error",
     "traceback": [
      "\u001B[0;31m---------------------------------------------------------------------------\u001B[0m",
      "\u001B[0;31mTypeError\u001B[0m                                 Traceback (most recent call last)",
      "Cell \u001B[0;32mIn[24], line 1\u001B[0m\n\u001B[0;32m----> 1\u001B[0m message4 \u001B[38;5;241m=\u001B[39m  \u001B[43mmessage\u001B[49m\u001B[43m \u001B[49m\u001B[38;5;241;43m+\u001B[39;49m\u001B[43m \u001B[49m\u001B[43mmessage2\u001B[49m\u001B[43m \u001B[49m\u001B[38;5;241;43m+\u001B[39;49m\u001B[43m \u001B[49m\u001B[43myear\u001B[49m \n",
      "\u001B[0;31mTypeError\u001B[0m: can only concatenate str (not \"int\") to str"
     ]
    }
   ],
   "source": [
    "message4 =  message + message2 + year  \n",
    "# TypeError: can only concatenate str (not \"int\") to str\n",
    "\n"
   ],
   "metadata": {
    "collapsed": false,
    "ExecuteTime": {
     "end_time": "2024-03-28T08:56:32.877169Z",
     "start_time": "2024-03-28T08:56:32.862787Z"
    }
   },
   "id": "107508eec65b7109",
   "execution_count": 24
  },
  {
   "cell_type": "markdown",
   "source": [
    "\"\"\"format string \"\"\""
   ],
   "metadata": {
    "collapsed": false
   },
   "id": "1c23d4e3c7991ecd"
  },
  {
   "cell_type": "code",
   "outputs": [
    {
     "name": "stdout",
     "output_type": "stream",
     "text": [
      "we have {0} students in {1} course <class 'str'>\n"
     ]
    }
   ],
   "source": [
    "no_of_students = 34\n",
    "course = \"python\"\n",
    "info = \"we have {0} students in {1} course\"  \n",
    "print(info, type(info))  # str\n"
   ],
   "metadata": {
    "collapsed": false,
    "ExecuteTime": {
     "end_time": "2024-03-28T08:58:35.680222Z",
     "start_time": "2024-03-28T08:58:35.676373Z"
    }
   },
   "id": "dd75524c4ad845f8",
   "execution_count": 25
  },
  {
   "cell_type": "code",
   "outputs": [
    {
     "name": "stdout",
     "output_type": "stream",
     "text": [
      "we have 34 students in python course\n"
     ]
    },
    {
     "ename": "IndexError",
     "evalue": "Replacement index 1 out of range for positional args tuple",
     "output_type": "error",
     "traceback": [
      "\u001B[0;31m---------------------------------------------------------------------------\u001B[0m",
      "\u001B[0;31mIndexError\u001B[0m                                Traceback (most recent call last)",
      "Cell \u001B[0;32mIn[28], line 4\u001B[0m\n\u001B[1;32m      1\u001B[0m \u001B[38;5;66;03m# string --> template 0---> you can format it with values \u001B[39;00m\n\u001B[1;32m      2\u001B[0m \u001B[38;5;28mprint\u001B[39m(info\u001B[38;5;241m.\u001B[39mformat(no_of_students, course))\n\u001B[0;32m----> 4\u001B[0m \u001B[38;5;28mprint\u001B[39m(\u001B[43minfo\u001B[49m\u001B[38;5;241;43m.\u001B[39;49m\u001B[43mformat\u001B[49m\u001B[43m(\u001B[49m\u001B[38;5;241;43m34\u001B[39;49m\u001B[43m)\u001B[49m) \u001B[38;5;66;03m# return new string\u001B[39;00m\n",
      "\u001B[0;31mIndexError\u001B[0m: Replacement index 1 out of range for positional args tuple"
     ]
    }
   ],
   "source": [
    "# string --> template 0---> you can format it with values \n",
    "print(info.format(no_of_students, course))  # return new string\n",
    "\n",
    "# print(info.format(34)) # return new string"
   ],
   "metadata": {
    "collapsed": false,
    "ExecuteTime": {
     "end_time": "2024-03-28T09:00:43.392883Z",
     "start_time": "2024-03-28T09:00:43.375392Z"
    }
   },
   "id": "94656caf95f0ef3",
   "execution_count": 28
  },
  {
   "cell_type": "code",
   "outputs": [
    {
     "name": "stdout",
     "output_type": "stream",
     "text": [
      "we have 20 students in mongo course\n"
     ]
    }
   ],
   "source": [
    "print(info.format(20 , \"mongo\"))\n"
   ],
   "metadata": {
    "collapsed": false,
    "ExecuteTime": {
     "end_time": "2024-03-28T09:01:25.254554Z",
     "start_time": "2024-03-28T09:01:25.250342Z"
    }
   },
   "id": "183951972721ce41",
   "execution_count": 29
  },
  {
   "cell_type": "code",
   "outputs": [
    {
     "name": "stdout",
     "output_type": "stream",
     "text": [
      "we have laravel students in 33 course\n",
      "we have 344 students in 3443 course\n",
      "we have {0} students in {1} course\n"
     ]
    }
   ],
   "source": [
    "print(info.format(\"laravel\", 33))\n",
    "print(info.format(\"344\", \"3443\"))\n",
    "print(info)"
   ],
   "metadata": {
    "collapsed": false,
    "ExecuteTime": {
     "end_time": "2024-03-28T09:04:30.577264Z",
     "start_time": "2024-03-28T09:04:30.572917Z"
    }
   },
   "id": "8c443e0254edc692",
   "execution_count": 32
  },
  {
   "cell_type": "markdown",
   "source": [
    "keyword template"
   ],
   "metadata": {
    "collapsed": false
   },
   "id": "98880647c179b7b8"
  },
  {
   "cell_type": "code",
   "outputs": [
    {
     "name": "stdout",
     "output_type": "stream",
     "text": [
      "we have {abbass} student in {fernas} course\n"
     ]
    }
   ],
   "source": [
    "info = \"we have {abbass} student in {fernas} course\"\n",
    "print(info)"
   ],
   "metadata": {
    "collapsed": false,
    "ExecuteTime": {
     "end_time": "2024-03-28T09:05:01.916667Z",
     "start_time": "2024-03-28T09:05:01.912374Z"
    }
   },
   "id": "d4c0099145337ac2",
   "execution_count": 33
  },
  {
   "cell_type": "code",
   "outputs": [
    {
     "name": "stdout",
     "output_type": "stream",
     "text": [
      "we have 43 student in python course\n"
     ]
    }
   ],
   "source": [
    "# format using keyword argument\n",
    "print(info.format(fernas='python', abbass=43))  # return new string"
   ],
   "metadata": {
    "collapsed": false,
    "ExecuteTime": {
     "end_time": "2024-03-28T09:06:13.315687Z",
     "start_time": "2024-03-28T09:06:13.312521Z"
    }
   },
   "id": "e855f9e7c05f8ac8",
   "execution_count": 34
  },
  {
   "cell_type": "markdown",
   "source": [
    "\"\"\" f-format string  ---> format string based on existing variables in memory\"\"\""
   ],
   "metadata": {
    "collapsed": false
   },
   "id": "c2aa8aa6792de1a"
  },
  {
   "cell_type": "code",
   "outputs": [
    {
     "name": "stdout",
     "output_type": "stream",
     "text": [
      "noha shehab Abdelhady\n"
     ]
    }
   ],
   "source": [
    "fname = 'noha'\n",
    "midname = 'Abdelhady'\n",
    "lname=  'shehab'\n",
    "\n",
    "fullname = f\"{fname} {lname} {midname}\"\n",
    "## return new string formatted sting based on existing variables\n",
    "\n",
    "print(fullname)"
   ],
   "metadata": {
    "collapsed": false,
    "ExecuteTime": {
     "end_time": "2024-03-28T09:08:45.709030Z",
     "start_time": "2024-03-28T09:08:45.704134Z"
    }
   },
   "id": "2a9f9b2a873ba473",
   "execution_count": 37
  },
  {
   "cell_type": "code",
   "outputs": [
    {
     "name": "stdout",
     "output_type": "stream",
     "text": [
      "noha Abdelhady Abdelhady shehab\n"
     ]
    }
   ],
   "source": [
    "\"\"\"string interpolation\"\"\"\n",
    "# fullname = fname +\" \"+ midname + \" \" + midname +\" \"+ lname\n",
    "# print(fullname)\n",
    "fullname = fname +\" \"+ (midname+ \" \")*2 + lname\n",
    "print(fullname)\n"
   ],
   "metadata": {
    "collapsed": false,
    "ExecuteTime": {
     "end_time": "2024-03-28T09:11:34.005817Z",
     "start_time": "2024-03-28T09:11:34.000725Z"
    }
   },
   "id": "a9f179edc29a6d6f",
   "execution_count": 41
  },
  {
   "cell_type": "code",
   "outputs": [
    {
     "name": "stdout",
     "output_type": "stream",
     "text": [
      "char: n\n",
      "char: o\n",
      "char: h\n",
      "char: a\n"
     ]
    }
   ],
   "source": [
    "\"\"\" loop over the string \"\"\"\n",
    "name = 'noha'\n",
    "for abbass in name:\n",
    "    print(f\"char: {abbass}\")"
   ],
   "metadata": {
    "collapsed": false,
    "ExecuteTime": {
     "end_time": "2024-03-28T09:18:52.895151Z",
     "start_time": "2024-03-28T09:18:52.889567Z"
    }
   },
   "id": "80a13688efd65d9c",
   "execution_count": 42
  },
  {
   "cell_type": "code",
   "outputs": [
    {
     "name": "stdout",
     "output_type": "stream",
     "text": [
      "True\n",
      "--found\n"
     ]
    }
   ],
   "source": [
    "\"check if char exists in string\"\n",
    "print(\"n\" in name)  # in operator \n",
    "if \"n\" in name:\n",
    "    print(\"--found\")"
   ],
   "metadata": {
    "collapsed": false,
    "ExecuteTime": {
     "end_time": "2024-03-28T09:19:44.140458Z",
     "start_time": "2024-03-28T09:19:44.135789Z"
    }
   },
   "id": "41aaa1d4968497e4",
   "execution_count": 44
  },
  {
   "cell_type": "code",
   "outputs": [
    {
     "name": "stdout",
     "output_type": "stream",
     "text": [
      "38\n",
      "         Hello world                  \n"
     ]
    }
   ],
   "source": [
    "\"\"\" strip string \"\"\"\n",
    "message = \"         Hello world                  \"\n",
    "print(len(message))\n",
    "print(message)\n",
    "\n",
    "\n",
    "\n"
   ],
   "metadata": {
    "collapsed": false,
    "ExecuteTime": {
     "end_time": "2024-03-28T09:20:59.318144Z",
     "start_time": "2024-03-28T09:20:59.314667Z"
    }
   },
   "id": "36d960ede352be40",
   "execution_count": 45
  },
  {
   "cell_type": "markdown",
   "source": [
    "\"remove spaces in one line -from the beginning/ end of the string -\""
   ],
   "metadata": {
    "collapsed": false
   },
   "id": "d7c692b02b118a75"
  },
  {
   "cell_type": "code",
   "outputs": [
    {
     "name": "stdout",
     "output_type": "stream",
     "text": [
      "Hello world\n",
      "Hello world                  \n",
      "         Hello world\n"
     ]
    }
   ],
   "source": [
    "print(message.strip())  # return new string remove spaces from begining / end\n",
    "print(message.lstrip())\n",
    "print(message.rstrip())"
   ],
   "metadata": {
    "collapsed": false,
    "ExecuteTime": {
     "end_time": "2024-03-28T09:21:56.932985Z",
     "start_time": "2024-03-28T09:21:56.917499Z"
    }
   },
   "id": "14f1293f910b028f",
   "execution_count": 49
  },
  {
   "cell_type": "code",
   "outputs": [
    {
     "name": "stdout",
     "output_type": "stream",
     "text": [
      "hello worl\n",
      "   @ hello world @    @\n"
     ]
    }
   ],
   "source": [
    "message= \"   @ hello world @    @\"\n",
    "# print(message.strip(\"@\"))  # strip @ from beginning and end of the string\n",
    "print(message.strip(\" @do\")) # accept set of chars --> needed to be removed.\n",
    "\n",
    "print(message)"
   ],
   "metadata": {
    "collapsed": false,
    "ExecuteTime": {
     "end_time": "2024-03-28T09:23:28.481548Z",
     "start_time": "2024-03-28T09:23:28.477393Z"
    }
   },
   "id": "d508bb12dcf98770",
   "execution_count": 51
  },
  {
   "cell_type": "markdown",
   "source": [
    "\"remove char from inside the string ? \""
   ],
   "metadata": {
    "collapsed": false
   },
   "id": "e006cab6c79d01c1"
  },
  {
   "cell_type": "code",
   "outputs": [
    {
     "name": "stdout",
     "output_type": "stream",
     "text": [
      "hell wrld      \n",
      "hell@ w@rld @ @ @ @ @ \n",
      "hell@ w@rld o o o o o \n"
     ]
    }
   ],
   "source": [
    "message =\"hello world o o o o o \"\n",
    "print(message, message.replace(\"o\", \"\"))  #return new string \n",
    "print(message, message.replace(\"o\", \"@\"))\n",
    "print(message.replace(\"o\", \"@\", 2))\n"
   ],
   "metadata": {
    "collapsed": false,
    "ExecuteTime": {
     "end_time": "2024-03-28T09:25:57.091063Z",
     "start_time": "2024-03-28T09:25:57.086215Z"
    }
   },
   "id": "56d375937ad7ffc9",
   "execution_count": 55
  },
  {
   "cell_type": "markdown",
   "source": [
    "\"\"\" ask use to enter string \"\"\""
   ],
   "metadata": {
    "collapsed": false
   },
   "id": "ab4208e602e6f672"
  },
  {
   "cell_type": "code",
   "outputs": [
    {
     "name": "stdout",
     "output_type": "stream",
     "text": [
      "0:h\n",
      "1:e\n",
      "2:l\n",
      "3:l\n",
      "4:o\n",
      "5: \n",
      "6:w\n",
      "7:o\n",
      "8:r\n",
      "9:l\n",
      "10:d\n",
      "11: \n",
      "12:o\n",
      "13:o\n",
      "14:o\n",
      "hello w@rld ooo\n"
     ]
    }
   ],
   "source": [
    "message= 'hello world ooo'\n",
    "countt = 0 \n",
    "newstring=  \"\"\n",
    "o_count = 0\n",
    "for char in message:\n",
    "    print(f\"{countt}:{char}\")\n",
    "    countt +=1\n",
    "    if char==\"o\" :\n",
    "        o_count+=1\n",
    "        if o_count==2:\n",
    "            newstring +=\"@\"\n",
    "        else:\n",
    "            newstring +=char\n",
    "    else:\n",
    "        newstring +=char\n",
    "print(newstring)\n",
    "    \n",
    "    \n",
    "\n",
    "\n",
    "\n"
   ],
   "metadata": {
    "collapsed": false,
    "ExecuteTime": {
     "end_time": "2024-03-28T09:32:00.971889Z",
     "start_time": "2024-03-28T09:32:00.967539Z"
    }
   },
   "id": "ef50d2b546c466f3",
   "execution_count": 58
  },
  {
   "cell_type": "code",
   "outputs": [
    {
     "name": "stdout",
     "output_type": "stream",
     "text": [
      "iti <class 'str'>\n"
     ]
    }
   ],
   "source": [
    "## ask user to enter value \n",
    "\n",
    "name = input(\"please enter your name : \")    # input always returns with string\n",
    "print(name , type(name))\n",
    "\n",
    "\n",
    "\n"
   ],
   "metadata": {
    "collapsed": false,
    "ExecuteTime": {
     "end_time": "2024-03-28T09:32:48.275990Z",
     "start_time": "2024-03-28T09:32:47.081937Z"
    }
   },
   "id": "cf8dd02dee2e2916",
   "execution_count": 61
  },
  {
   "cell_type": "markdown",
   "source": [
    "calculator"
   ],
   "metadata": {
    "collapsed": false
   },
   "id": "b230b96840542663"
  },
  {
   "cell_type": "code",
   "outputs": [
    {
     "name": "stdout",
     "output_type": "stream",
     "text": [
      "ttff\n"
     ]
    },
    {
     "ename": "ValueError",
     "evalue": "invalid literal for int() with base 10: 'tt'",
     "output_type": "error",
     "traceback": [
      "\u001B[0;31m---------------------------------------------------------------------------\u001B[0m",
      "\u001B[0;31mValueError\u001B[0m                                Traceback (most recent call last)",
      "Cell \u001B[0;32mIn[66], line 5\u001B[0m\n\u001B[1;32m      3\u001B[0m res \u001B[38;5;241m=\u001B[39m num1 \u001B[38;5;241m+\u001B[39m num2 \n\u001B[1;32m      4\u001B[0m \u001B[38;5;28mprint\u001B[39m(res)\n\u001B[0;32m----> 5\u001B[0m res \u001B[38;5;241m=\u001B[39m \u001B[38;5;28;43mint\u001B[39;49m\u001B[43m(\u001B[49m\u001B[43mnum1\u001B[49m\u001B[43m)\u001B[49m \u001B[38;5;241m+\u001B[39m \u001B[38;5;28mint\u001B[39m(num2) \n\u001B[1;32m      6\u001B[0m \u001B[38;5;28mprint\u001B[39m(res)\n",
      "\u001B[0;31mValueError\u001B[0m: invalid literal for int() with base 10: 'tt'"
     ]
    }
   ],
   "source": [
    "num1 = input(\"please enter first number\") \n",
    "num2=  input(\"please enter second number\") \n",
    "res = num1 + num2 \n",
    "print(res)\n",
    "res = int(num1) + int(num2) \n",
    "print(res)\n"
   ],
   "metadata": {
    "collapsed": false,
    "ExecuteTime": {
     "end_time": "2024-03-28T09:34:15.008377Z",
     "start_time": "2024-03-28T09:34:10.340391Z"
    }
   },
   "id": "fabf8891b9d7418e",
   "execution_count": 66
  },
  {
   "cell_type": "markdown",
   "source": [
    "Never Trust user input ----------------------> "
   ],
   "metadata": {
    "collapsed": false
   },
   "id": "7bbe893c75ac19a7"
  },
  {
   "cell_type": "markdown",
   "source": [
    "Examine string content"
   ],
   "metadata": {
    "collapsed": false
   },
   "id": "7bba2b14604a7071"
  },
  {
   "cell_type": "code",
   "outputs": [
    {
     "name": "stdout",
     "output_type": "stream",
     "text": [
      "isdigit: False\n"
     ]
    }
   ],
   "source": [
    "num1 = input(\"please enter num1\")\n",
    "\n",
    "\"\"\" examine string content before ---. \"\"\"\n",
    "print(\"isdigit:\", num1.isdigit())  \n",
    "## return True if string consists only from numbers -digits from 0-->9 -\n"
   ],
   "metadata": {
    "collapsed": false,
    "ExecuteTime": {
     "end_time": "2024-03-28T09:38:44.928786Z",
     "start_time": "2024-03-28T09:38:42.902891Z"
    }
   },
   "id": "22c9b6db1100749b",
   "execution_count": 74
  },
  {
   "cell_type": "code",
   "outputs": [
    {
     "name": "stdout",
     "output_type": "stream",
     "text": [
      "is alpha: True\n"
     ]
    }
   ],
   "source": [
    "print(\"is alpha:\", num1.isalpha())   \n",
    "# return True --> if string consists only from alphas a->z "
   ],
   "metadata": {
    "collapsed": false,
    "ExecuteTime": {
     "end_time": "2024-03-28T09:38:47.958472Z",
     "start_time": "2024-03-28T09:38:47.954758Z"
    }
   },
   "id": "bb4c92f5c0993cb8",
   "execution_count": 75
  },
  {
   "cell_type": "code",
   "outputs": [
    {
     "name": "stdout",
     "output_type": "stream",
     "text": [
      "isupper:  False\n"
     ]
    }
   ],
   "source": [
    "print(\"isupper: \",num1.isupper())"
   ],
   "metadata": {
    "collapsed": false,
    "ExecuteTime": {
     "end_time": "2024-03-28T09:37:18.991414Z",
     "start_time": "2024-03-28T09:37:18.987662Z"
    }
   },
   "id": "9f0861d0316352e9",
   "execution_count": 69
  },
  {
   "cell_type": "code",
   "outputs": [],
   "source": [],
   "metadata": {
    "collapsed": false
   },
   "id": "d80b2a8314fe3583"
  },
  {
   "cell_type": "code",
   "outputs": [
    {
     "name": "stdout",
     "output_type": "stream",
     "text": [
      "islower:  True\n"
     ]
    }
   ],
   "source": [
    "print(\"islower: \",num2.islower())"
   ],
   "metadata": {
    "collapsed": false,
    "ExecuteTime": {
     "end_time": "2024-03-28T09:37:24.153380Z",
     "start_time": "2024-03-28T09:37:24.149735Z"
    }
   },
   "id": "44042fa5ac0044f7",
   "execution_count": 70
  },
  {
   "cell_type": "code",
   "outputs": [
    {
     "name": "stdout",
     "output_type": "stream",
     "text": [
      "True\n"
     ]
    }
   ],
   "source": [
    "name =\"                               \"\n",
    "print(name.isspace())\n"
   ],
   "metadata": {
    "collapsed": false,
    "ExecuteTime": {
     "end_time": "2024-03-28T09:39:25.212493Z",
     "start_time": "2024-03-28T09:39:25.208573Z"
    }
   },
   "id": "5de84d0ff370f690",
   "execution_count": 76
  },
  {
   "cell_type": "code",
   "outputs": [],
   "source": [
    "# numbers\n",
    "a, b, c, d = 10, 66.66, 76.3, 100.54"
   ],
   "metadata": {
    "collapsed": false,
    "ExecuteTime": {
     "end_time": "2024-03-28T09:41:25.544581Z",
     "start_time": "2024-03-28T09:41:25.541557Z"
    }
   },
   "id": "11323de22e0209fc",
   "execution_count": 77
  },
  {
   "cell_type": "code",
   "outputs": [
    {
     "data": {
      "text/plain": "10"
     },
     "execution_count": 78,
     "metadata": {},
     "output_type": "execute_result"
    }
   ],
   "source": [
    "min(a,b,c,d)"
   ],
   "metadata": {
    "collapsed": false,
    "ExecuteTime": {
     "end_time": "2024-03-28T09:41:31.435882Z",
     "start_time": "2024-03-28T09:41:31.430454Z"
    }
   },
   "id": "cf42c243086e565a",
   "execution_count": 78
  },
  {
   "cell_type": "code",
   "outputs": [],
   "source": [],
   "metadata": {
    "collapsed": false
   },
   "id": "8e69b4da449fc07a"
  }
 ],
 "metadata": {
  "kernelspec": {
   "display_name": "Python 3",
   "language": "python",
   "name": "python3"
  },
  "language_info": {
   "codemirror_mode": {
    "name": "ipython",
    "version": 2
   },
   "file_extension": ".py",
   "mimetype": "text/x-python",
   "name": "python",
   "nbconvert_exporter": "python",
   "pygments_lexer": "ipython2",
   "version": "2.7.6"
  }
 },
 "nbformat": 4,
 "nbformat_minor": 5
}
