{
 "cells": [
  {
   "cell_type": "raw",
   "source": [
    "tuple is one of the most common datatypes in python\n",
    "tuple is immutable datatype ---> can be changed after creation"
   ],
   "metadata": {
    "collapsed": false
   },
   "id": "4bbb6962f4970902"
  },
  {
   "cell_type": "code",
   "outputs": [],
   "source": [
    "\"1- define a tuple \"\n",
    "t = ()\n",
    "myt = tuple()"
   ],
   "metadata": {
    "collapsed": false
   },
   "id": "67a9667cd4bf59a0"
  },
  {
   "cell_type": "code",
   "outputs": [
    {
     "name": "stdout",
     "output_type": "stream",
     "text": [
      "(34, 4, 'iti', 344.32, 'ahmed', True, ['kubernates', 'GCP', 'ansible'], 'iti')\n"
     ]
    }
   ],
   "source": [
    "\"tuple can hold different data from different datatypes\"\n",
    "myt = (34,4, \"iti\", 344.32, \"ahmed\", True, ['kubernates', 'GCP', \"ansible\"], \"iti\")\n",
    "print(myt)"
   ],
   "metadata": {
    "collapsed": false,
    "ExecuteTime": {
     "end_time": "2024-03-28T10:34:31.330224Z",
     "start_time": "2024-03-28T10:34:31.321024Z"
    }
   },
   "id": "dcbd11bad8a86090",
   "execution_count": 1
  },
  {
   "cell_type": "code",
   "outputs": [
    {
     "name": "stdout",
     "output_type": "stream",
     "text": [
      "ahmed\n",
      "ansible\n"
     ]
    }
   ],
   "source": [
    "\"\"\" each element is assigned to an index --> index start from 0 \"\"\"\n",
    "print(myt[4])\n",
    "print(myt[6][2])\n"
   ],
   "metadata": {
    "collapsed": false,
    "ExecuteTime": {
     "end_time": "2024-03-28T10:35:00.180022Z",
     "start_time": "2024-03-28T10:35:00.174156Z"
    }
   },
   "id": "e98cd1e917c2c4a2",
   "execution_count": 2
  },
  {
   "cell_type": "code",
   "outputs": [
    {
     "name": "stdout",
     "output_type": "stream",
     "text": [
      "8\n"
     ]
    }
   ],
   "source": [
    "\"get len of tuple\"\n",
    "print(len(myt))"
   ],
   "metadata": {
    "collapsed": false,
    "ExecuteTime": {
     "end_time": "2024-03-28T10:35:23.869241Z",
     "start_time": "2024-03-28T10:35:23.864209Z"
    }
   },
   "id": "6cca7b46b994631d",
   "execution_count": 3
  },
  {
   "cell_type": "code",
   "outputs": [
    {
     "name": "stdout",
     "output_type": "stream",
     "text": [
      "2\n"
     ]
    }
   ],
   "source": [
    "\"count element occurence\"\n",
    "print(myt.count(\"iti\"))"
   ],
   "metadata": {
    "collapsed": false,
    "ExecuteTime": {
     "end_time": "2024-03-28T10:35:29.401745Z",
     "start_time": "2024-03-28T10:35:29.397988Z"
    }
   },
   "id": "2afa7e93c0b12ae5",
   "execution_count": 4
  },
  {
   "cell_type": "code",
   "outputs": [
    {
     "name": "stdout",
     "output_type": "stream",
     "text": [
      "2\n"
     ]
    }
   ],
   "source": [
    "\"\"\"get index of element \"\"\"\n",
    "print(myt.index(\"iti\"))  "
   ],
   "metadata": {
    "collapsed": false,
    "ExecuteTime": {
     "end_time": "2024-03-28T10:35:32.158595Z",
     "start_time": "2024-03-28T10:35:32.152672Z"
    }
   },
   "id": "ed6c321d6c9f346a",
   "execution_count": 5
  },
  {
   "cell_type": "code",
   "outputs": [
    {
     "name": "stdout",
     "output_type": "stream",
     "text": [
      "(344.32, 'ahmed')\n"
     ]
    }
   ],
   "source": [
    "\"\"\"slicing the tuple\"\"\"\n",
    "print(myt[3:5])   # return new tuple"
   ],
   "metadata": {
    "collapsed": false,
    "ExecuteTime": {
     "end_time": "2024-03-28T10:35:57.353202Z",
     "start_time": "2024-03-28T10:35:57.348574Z"
    }
   },
   "id": "551512bb90ade780",
   "execution_count": 6
  },
  {
   "cell_type": "code",
   "outputs": [
    {
     "name": "stdout",
     "output_type": "stream",
     "text": [
      "(34, 'iti', 'ahmed', ['kubernates', 'GCP', 'ansible'])\n"
     ]
    }
   ],
   "source": [
    "print(myt[::2])"
   ],
   "metadata": {
    "collapsed": false,
    "ExecuteTime": {
     "end_time": "2024-03-28T10:35:59.892083Z",
     "start_time": "2024-03-28T10:35:59.887319Z"
    }
   },
   "id": "d81d117f03bd8cd1",
   "execution_count": 7
  },
  {
   "cell_type": "code",
   "outputs": [
    {
     "name": "stdout",
     "output_type": "stream",
     "text": [
      "(34, 4, 'iti', 344.32, 'ahmed', True, ['kubernates', 'GCP', 'ansible'], 'iti')\n"
     ]
    },
    {
     "ename": "TypeError",
     "evalue": "'tuple' object does not support item assignment",
     "output_type": "error",
     "traceback": [
      "\u001B[0;31m---------------------------------------------------------------------------\u001B[0m",
      "\u001B[0;31mTypeError\u001B[0m                                 Traceback (most recent call last)",
      "Cell \u001B[0;32mIn[8], line 4\u001B[0m\n\u001B[1;32m      2\u001B[0m \u001B[38;5;124;03m\"\"\"modify existing element\"\"\"\u001B[39;00m\n\u001B[1;32m      3\u001B[0m \u001B[38;5;28mprint\u001B[39m(myt)\n\u001B[0;32m----> 4\u001B[0m \u001B[43mmyt\u001B[49m\u001B[43m[\u001B[49m\u001B[38;5;241;43m1\u001B[39;49m\u001B[43m]\u001B[49m \u001B[38;5;241m=\u001B[39m \u001B[38;5;124m\"\u001B[39m\u001B[38;5;124mupdated\u001B[39m\u001B[38;5;124m\"\u001B[39m \n\u001B[1;32m      5\u001B[0m \u001B[38;5;28mprint\u001B[39m(myt)\n",
      "\u001B[0;31mTypeError\u001B[0m: 'tuple' object does not support item assignment"
     ]
    }
   ],
   "source": [
    "\"\"\"tuple is immutable datatype --> cannot be changed after creation\"\"\"\n",
    "\"\"\"modify existing element\"\"\"\n",
    "print(myt)\n",
    "myt[1] = \"updated\"   # 'tuple' object does not support item assignment\n",
    "print(myt)  "
   ],
   "metadata": {
    "collapsed": false,
    "ExecuteTime": {
     "end_time": "2024-03-28T10:36:26.566941Z",
     "start_time": "2024-03-28T10:36:26.351388Z"
    }
   },
   "id": "3577b36175fad2e8",
   "execution_count": 8
  },
  {
   "cell_type": "code",
   "outputs": [],
   "source": [
    "\"\"\" loop over the tuple \"\"\""
   ],
   "metadata": {
    "collapsed": false
   },
   "id": "dc258b2884fa05dc"
  },
  {
   "cell_type": "code",
   "outputs": [
    {
     "name": "stdout",
     "output_type": "stream",
     "text": [
      "element = 34\n",
      "element = 4\n",
      "element = iti\n",
      "element = 344.32\n",
      "element = ahmed\n",
      "element = True\n",
      "element = ['kubernates', 'GCP', 'ansible']\n",
      "element = iti\n"
     ]
    }
   ],
   "source": [
    "for element in myt:\n",
    "    print(f\"element = {element}\")"
   ],
   "metadata": {
    "collapsed": false,
    "ExecuteTime": {
     "end_time": "2024-03-28T10:37:19.106352Z",
     "start_time": "2024-03-28T10:37:19.102736Z"
    }
   },
   "id": "fcca498f85ee8883",
   "execution_count": 9
  },
  {
   "cell_type": "code",
   "outputs": [
    {
     "name": "stdout",
     "output_type": "stream",
     "text": [
      "True\n"
     ]
    }
   ],
   "source": [
    "\"\"\"check element in tuple or not \"\"\"\n",
    "print(\"iti\" in myt)"
   ],
   "metadata": {
    "collapsed": false,
    "ExecuteTime": {
     "end_time": "2024-03-28T10:37:28.734344Z",
     "start_time": "2024-03-28T10:37:28.730075Z"
    }
   },
   "id": "e31b35edd0c44158",
   "execution_count": 10
  },
  {
   "cell_type": "code",
   "outputs": [],
   "source": [
    "\"\"\"---> tuple concat\"\"\"\n",
    "t1 = (\"python\", \"mongo\", \"javascript\", \"sql\")\n",
    "t2= (\"jenkins\", \"GCP\", \"Ansible\", \"Kubernates\", \"Docker\")"
   ],
   "metadata": {
    "collapsed": false,
    "ExecuteTime": {
     "end_time": "2024-03-28T10:38:05.534215Z",
     "start_time": "2024-03-28T10:38:05.528776Z"
    }
   },
   "id": "6b995d7c48526d37",
   "execution_count": 12
  },
  {
   "cell_type": "code",
   "outputs": [
    {
     "name": "stdout",
     "output_type": "stream",
     "text": [
      "('python', 'mongo', 'javascript', 'sql', 'jenkins', 'GCP', 'Ansible', 'Kubernates', 'Docker')\n"
     ]
    }
   ],
   "source": [
    "lst_of_courses = t1  + t2\n",
    "print(lst_of_courses)"
   ],
   "metadata": {
    "collapsed": false,
    "ExecuteTime": {
     "end_time": "2024-03-28T10:38:06.865085Z",
     "start_time": "2024-03-28T10:38:06.858891Z"
    }
   },
   "id": "7e023ca9034925c7",
   "execution_count": 13
  },
  {
   "cell_type": "markdown",
   "source": [
    "Casting string to a tuple."
   ],
   "metadata": {
    "collapsed": false
   },
   "id": "c2aaea75692a7419"
  },
  {
   "cell_type": "code",
   "outputs": [
    {
     "name": "stdout",
     "output_type": "stream",
     "text": [
      "('n', 'o', 'h', 'a')\n"
     ]
    }
   ],
   "source": [
    "name = 'noha'\n",
    "name = tuple(name)\n",
    "print(name)"
   ],
   "metadata": {
    "collapsed": false,
    "ExecuteTime": {
     "end_time": "2024-03-28T10:38:35.217443Z",
     "start_time": "2024-03-28T10:38:35.213167Z"
    }
   },
   "id": "7b80bbc6838b4563",
   "execution_count": 14
  },
  {
   "cell_type": "markdown",
   "source": [
    "min-max"
   ],
   "metadata": {
    "collapsed": false
   },
   "id": "3f32b3b8484e1f6b"
  },
  {
   "cell_type": "code",
   "outputs": [
    {
     "name": "stdout",
     "output_type": "stream",
     "text": [
      "3\n",
      "454\n"
     ]
    }
   ],
   "source": [
    "print(min((3,454,23,323,12,21)))\n",
    "print(max((3,454,23,323,12,21)))"
   ],
   "metadata": {
    "collapsed": false,
    "ExecuteTime": {
     "end_time": "2024-03-28T10:39:01.460153Z",
     "start_time": "2024-03-28T10:39:01.455314Z"
    }
   },
   "id": "c804f2e8d054bbd5",
   "execution_count": 15
  },
  {
   "cell_type": "markdown",
   "source": [
    "for loop and index "
   ],
   "metadata": {
    "collapsed": false
   },
   "id": "e4349a78f40ee440"
  },
  {
   "cell_type": "code",
   "outputs": [],
   "source": [
    "index  = 0\n",
    "for item in myt:\n",
    "    print(f\" {item} , {myt.index(item)} : {index}\")\n",
    "    index +=1"
   ],
   "metadata": {
    "collapsed": false
   },
   "id": "991f15b0e1a605a1"
  },
  {
   "cell_type": "raw",
   "source": [
    "enum"
   ],
   "metadata": {
    "collapsed": false
   },
   "id": "144de569d7c3564"
  },
  {
   "cell_type": "code",
   "outputs": [
    {
     "name": "stdout",
     "output_type": "stream",
     "text": [
      "<enumerate object at 0x72a88d2c4db0>\n"
     ]
    }
   ],
   "source": [
    "myt_enum = enumerate(myt)\n",
    "print(myt_enum)\n"
   ],
   "metadata": {
    "collapsed": false,
    "ExecuteTime": {
     "end_time": "2024-03-28T10:39:12.940007Z",
     "start_time": "2024-03-28T10:39:12.936116Z"
    }
   },
   "id": "6e52b960a636987",
   "execution_count": 16
  },
  {
   "cell_type": "markdown",
   "source": [
    "use it with loops"
   ],
   "metadata": {
    "collapsed": false
   },
   "id": "570497a49be693f5"
  },
  {
   "cell_type": "code",
   "outputs": [
    {
     "name": "stdout",
     "output_type": "stream",
     "text": [
      "i=0, item = 34\n",
      "i=1, item = 4\n",
      "i=2, item = iti\n",
      "i=3, item = 344.32\n",
      "i=4, item = ahmed\n",
      "i=5, item = True\n",
      "i=6, item = ['kubernates', 'GCP', 'ansible']\n",
      "i=7, item = iti\n"
     ]
    }
   ],
   "source": [
    "for i , value in myt_enum:\n",
    "    print(f\"i={i}, item = {value}\")"
   ],
   "metadata": {
    "collapsed": false,
    "ExecuteTime": {
     "end_time": "2024-03-28T10:39:18.430973Z",
     "start_time": "2024-03-28T10:39:18.426674Z"
    }
   },
   "id": "e7fc01c965975504",
   "execution_count": 17
  },
  {
   "cell_type": "code",
   "outputs": [],
   "source": [
    "# tuple of one item\n",
    "students = (\"Ahmed Nagy\",)  # tuple of one item\n",
    "print(students, type(students))\n"
   ],
   "metadata": {
    "collapsed": false
   },
   "id": "c88d5fa9ef0471e1"
  }
 ],
 "metadata": {
  "kernelspec": {
   "display_name": "Python 3",
   "language": "python",
   "name": "python3"
  },
  "language_info": {
   "codemirror_mode": {
    "name": "ipython",
    "version": 2
   },
   "file_extension": ".py",
   "mimetype": "text/x-python",
   "name": "python",
   "nbconvert_exporter": "python",
   "pygments_lexer": "ipython2",
   "version": "2.7.6"
  }
 },
 "nbformat": 4,
 "nbformat_minor": 5
}
